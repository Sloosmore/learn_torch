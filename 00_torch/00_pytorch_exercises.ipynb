{
 "cells": [
  {
   "cell_type": "markdown",
   "metadata": {},
   "source": [
    "## exercises\n",
    "\n",
    "All of the exercises are focused on practicing the code above.\n",
    "\n",
    "You should be able to complete them by referencing each section or by following the resource(s) linked.\n",
    "\n",
    "Resources:\n",
    "\n",
    "Exercise template notebook for 00.\n",
    "Documentation reading - A big part of deep learning (and learning to code in general) is getting familiar with the documentation of a certain framework you're using. We'll be using the PyTorch documentation a lot throughout the rest of this course. So I'd recommend spending 10-minutes reading the following (it's okay if you don't get some things for now, the focus is not yet full understanding, it's awareness). See the documentation on torch.Tensor and for torch.cuda.\n",
    "\n",
    "Create a random tensor with shape (7, 7).\n",
    "\n",
    "Perform a matrix multiplication on the tensor from 2 with another random tensor with shape (1, 7) (hint: you may have to transpose the second tensor).\n",
    "\n",
    "Set the random seed to 0 and do exercises 2 & 3 over again.\n",
    "\n",
    "Speaking of random seeds, we saw how to set it with torch.manual_seed() but is there a GPU equivalent? (hint: you'll need to look into the documentation for torch.cuda for this one). If there is, set the GPU random seed to 1234.\n",
    "\n",
    "Create two random tensors of shape (2, 3) and send them both to the GPU (you'll need access to a GPU for this). Set torch.manual_seed(1234) when creating the tensors (this doesn't have to be the GPU random seed).\n",
    "\n",
    "Perform a matrix multiplication on the tensors you created in 6 (again, you may have to adjust the shapes of one of the tensors).\n",
    "\n",
    "Find the maximum and minimum values of the output of 7.\n",
    "\n",
    "Find the maximum and minimum index values of the output of 7.\n",
    "\n",
    "Make a random tensor with shape (1, 1, 1, 10) and then create a new tensor with all the 1 dimensions removed to be left with a tensor of shape (10). Set the seed to 7 when you create it and print out the first tensor and it's shape as well as the second tensor \n",
    "and it's shape."
   ]
  },
  {
   "cell_type": "code",
   "execution_count": 1,
   "metadata": {},
   "outputs": [],
   "source": [
    "import torch"
   ]
  },
  {
   "cell_type": "code",
   "execution_count": 2,
   "metadata": {},
   "outputs": [
    {
     "data": {
      "text/plain": [
       "tensor([[0.2429, 0.9003, 0.5864, 0.5314, 0.9706, 0.3976, 0.7824],\n",
       "        [0.0720, 0.7370, 0.1675, 0.3615, 0.7835, 0.8636, 0.3220],\n",
       "        [0.9475, 0.9798, 0.8286, 0.2248, 0.0629, 0.8779, 0.7793],\n",
       "        [0.9554, 0.4722, 0.4003, 0.2685, 0.7333, 0.3190, 0.9165],\n",
       "        [0.3332, 0.7539, 0.3076, 0.5152, 0.4027, 0.6322, 0.3311],\n",
       "        [0.8339, 0.8837, 0.0061, 0.4507, 0.8244, 0.1573, 0.3996],\n",
       "        [0.8492, 0.7210, 0.1211, 0.7254, 0.2643, 0.1402, 0.9917]])"
      ]
     },
     "execution_count": 2,
     "metadata": {},
     "output_type": "execute_result"
    }
   ],
   "source": [
    "seven_seven = torch.rand(size=(7,7))\n",
    "seven_seven"
   ]
  },
  {
   "cell_type": "code",
   "execution_count": 5,
   "metadata": {},
   "outputs": [
    {
     "data": {
      "text/plain": [
       "tensor([[1.8511],\n",
       "        [1.4148],\n",
       "        [2.1165],\n",
       "        [2.0002],\n",
       "        [1.4564],\n",
       "        [1.6054],\n",
       "        [2.1192]])"
      ]
     },
     "execution_count": 5,
     "metadata": {},
     "output_type": "execute_result"
    }
   ],
   "source": [
    "one_seven = torch.rand(size=(1,7)).T\n",
    "torch.mm(seven_seven, one_seven)"
   ]
  },
  {
   "cell_type": "code",
   "execution_count": 9,
   "metadata": {},
   "outputs": [
    {
     "data": {
      "text/plain": [
       "tensor([[1.3299],\n",
       "        [1.8111],\n",
       "        [1.3228],\n",
       "        [0.9725],\n",
       "        [1.8285],\n",
       "        [1.4806],\n",
       "        [2.0489]])"
      ]
     },
     "execution_count": 9,
     "metadata": {},
     "output_type": "execute_result"
    }
   ],
   "source": [
    "torch.manual_seed(42)\n",
    "seven_seven, one_seven = torch.rand(size=(7,7)), torch.rand(size=(1,7)).T\n",
    "out = torch.mm(seven_seven, one_seven)\n",
    "out"
   ]
  },
  {
   "cell_type": "code",
   "execution_count": 8,
   "metadata": {},
   "outputs": [],
   "source": [
    "device = \"cuda\" if torch.cuda.is_available() else \"cuda\"\n",
    "torch.cuda.manual_seed(1234)"
   ]
  },
  {
   "cell_type": "code",
   "execution_count": 10,
   "metadata": {},
   "outputs": [
    {
     "data": {
      "text/plain": [
       "(tensor(2.0489), tensor(0.9725), tensor(6), tensor(3))"
      ]
     },
     "execution_count": 10,
     "metadata": {},
     "output_type": "execute_result"
    }
   ],
   "source": [
    "max = out.max()\n",
    "min = out.min()\n",
    "argmax = out.argmax()\n",
    "argmin = out.argmin()\n",
    "max, min, argmax, argmin"
   ]
  },
  {
   "cell_type": "code",
   "execution_count": 16,
   "metadata": {},
   "outputs": [
    {
     "data": {
      "text/plain": [
       "tensor([0.5349, 0.1988, 0.6592, 0.6569, 0.2328, 0.4251, 0.2071, 0.6297, 0.3653,\n",
       "        0.8513])"
      ]
     },
     "execution_count": 16,
     "metadata": {},
     "output_type": "execute_result"
    }
   ],
   "source": [
    "torch.manual_seed(7)\n",
    "ten = torch.rand(size=(1,1,1,10))\n",
    "ten.squeeze()"
   ]
  }
 ],
 "metadata": {
  "kernelspec": {
   "display_name": "Python 3",
   "language": "python",
   "name": "python3"
  },
  "language_info": {
   "codemirror_mode": {
    "name": "ipython",
    "version": 3
   },
   "file_extension": ".py",
   "mimetype": "text/x-python",
   "name": "python",
   "nbconvert_exporter": "python",
   "pygments_lexer": "ipython3",
   "version": "3.11.4"
  }
 },
 "nbformat": 4,
 "nbformat_minor": 2
}
