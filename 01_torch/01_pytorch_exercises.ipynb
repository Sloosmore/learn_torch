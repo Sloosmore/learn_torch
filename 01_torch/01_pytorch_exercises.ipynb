{
 "cells": [
  {
   "cell_type": "markdown",
   "metadata": {},
   "source": [
    "All exercises have been inspired from code throughout the notebook.\n",
    "\n",
    "There is one exercise per major section.\n",
    "\n",
    "You should be able to complete them by referencing their specific section.\n",
    "\n",
    "Note: For all exercises, your code should be device agnostic (meaning it could run on CPU or GPU if it's available).\n",
    "\n",
    "- Create a straight line dataset using the linear regression formula (weight * X + bias).\n",
    "- Set weight=0.3 and bias=0.9 there should be at least 100 datapoints total.\n",
    "- Split the data into 80% training, 20% testing.\n",
    "- Plot the training and testing data so it becomes visual.\n",
    "- Build a PyTorch model by subclassing nn.Module.\n",
    "- Inside should be a randomly initialized nn.Parameter() with requires_grad=True, one for weights and one for bias.\n",
    "- Implement the forward() method to compute the linear regression function you used to create the dataset in 1.\n",
    "- Once you've constructed the model, make an instance of it and check its state_dict().\n",
    "- Note: If you'd like to use nn.Linear() instead of nn.Parameter() you can.\n",
    "- Create a loss function and optimizer using nn.L1Loss() and torch.optim.SGD(params, lr) respectively.\n",
    "- Set the learning rate of the optimizer to be 0.01 and the parameters to optimize should be the model parameters from the model you created in 2.\n",
    "- Write a training loop to perform the appropriate training steps for 300 epochs.\n",
    "- The training loop should test the model on the test dataset every 20 epochs.\n",
    "- Make predictions with the trained model on the test data.\n",
    "- Visualize these predictions against the original training and testing data (note: you may need to make sure the predictions are not on the GPU if you want to use non-CUDA-enabled libraries such as matplotlib to plot).\n",
    "- Save your trained model's state_dict() to file.\n",
    "- Create a new instance of your model class you made in 2. and load in the state_dict() you just saved to it.\n",
    "- Perform predictions on your test data with the loaded model and confirm they match the original model predictions from 4."
   ]
  },
  {
   "cell_type": "code",
   "execution_count": 13,
   "metadata": {},
   "outputs": [],
   "source": [
    "import torch\n",
    "\n",
    "device = 'gpu' if torch.cuda.is_available() else 'cpu'"
   ]
  },
  {
   "cell_type": "code",
   "execution_count": 14,
   "metadata": {},
   "outputs": [],
   "source": [
    "X = torch.arange(0,1, 0.01, device=device).unsqueeze(dim=1)\n",
    "\n",
    "weight = .3\n",
    "bias = .9\n",
    "\n",
    "y = .3 * X +.9"
   ]
  },
  {
   "cell_type": "code",
   "execution_count": 15,
   "metadata": {},
   "outputs": [
    {
     "data": {
      "text/plain": [
       "100"
      ]
     },
     "execution_count": 15,
     "metadata": {},
     "output_type": "execute_result"
    }
   ],
   "source": [
    "split = int(len(X)*.8)\n",
    "X_train, y_train = X[:split], y[:split]\n",
    "X_test, y_test = X[split:], y[split:]\n",
    "len(X)"
   ]
  },
  {
   "cell_type": "code",
   "execution_count": 23,
   "metadata": {},
   "outputs": [],
   "source": [
    "import matplotlib.pyplot as plt\n",
    "def plot_shit(train_label=X_train, train_target=y_train, test_label=X_test, test_target=y_test, pred=None):\n",
    "    fig, ax = plt.subplots()\n",
    "    ax.scatter(train_label, train_target, c=\"b\", s=1, label=\"Train Data\")\n",
    "    ax.scatter(test_label, test_target, c='r', s=1, label=\"Test Data\")\n",
    "    ax.legend()\n",
    "    if pred is not None:\n",
    "        ax.scatter(X_test, pred, c='g',s=1,label=\"pred Data\")\n",
    "\n",
    "    "
   ]
  },
  {
   "cell_type": "code",
   "execution_count": 24,
   "metadata": {},
   "outputs": [
    {
     "data": {
      "image/png": "[encoded data removed]",
      "text/plain": [
       "<Figure size 640x480 with 1 Axes>"
      ]
     },
     "metadata": {},
     "output_type": "display_data"
    }
   ],
   "source": [
    "plot_shit()"
   ]
  },
  {
   "cell_type": "code",
   "execution_count": 26,
   "metadata": {},
   "outputs": [],
   "source": [
    "from torch import nn\n",
    "class linearRegress3(nn.Module):\n",
    "    def __init__(self):\n",
    "        super().__init__()\n",
    "        \n",
    "        self.linear = nn.Linear(in_features=1, out_features=1, device=device)\n",
    "        \n",
    "    def forward(self, x:torch.Tensor) -> torch.Tensor:\n",
    "        return self.linear(x)\n",
    "        "
   ]
  },
  {
   "cell_type": "code",
   "execution_count": 27,
   "metadata": {},
   "outputs": [
    {
     "data": {
      "text/plain": [
       "OrderedDict([('linear.weight', tensor([[0.4023]])),\n",
       "             ('linear.bias', tensor([-0.2911]))])"
      ]
     },
     "execution_count": 27,
     "metadata": {},
     "output_type": "execute_result"
    }
   ],
   "source": [
    "play_model = linearRegress3()\n",
    "play_model.state_dict()"
   ]
  },
  {
   "cell_type": "code",
   "execution_count": 33,
   "metadata": {},
   "outputs": [],
   "source": [
    "# create loss and optim\n",
    "\n",
    "loss_fn = torch.nn.L1Loss()\n",
    "\n",
    "optim = torch.optim.SGD(params=play_model.parameters(), lr=0.01)"
   ]
  },
  {
   "cell_type": "code",
   "execution_count": 35,
   "metadata": {},
   "outputs": [
    {
     "name": "stdout",
     "output_type": "stream",
     "text": [
      "Epoch : 0 | Loss : 1.1391198635101318 | Test Loss : 1.0724618434906006\n",
      "Epoch : 10 | Loss : 1.023517370223999 | Test Loss : 0.9371091723442078\n",
      "Epoch : 20 | Loss : 0.9079147577285767 | Test Loss : 0.8017566800117493\n",
      "Epoch : 30 | Loss : 0.7923123240470886 | Test Loss : 0.6664042472839355\n",
      "Epoch : 40 | Loss : 0.6767098307609558 | Test Loss : 0.5310518145561218\n",
      "Epoch : 50 | Loss : 0.5611072778701782 | Test Loss : 0.3956992030143738\n",
      "Epoch : 60 | Loss : 0.4455048143863678 | Test Loss : 0.26034677028656006\n",
      "Epoch : 70 | Loss : 0.3299024701118469 | Test Loss : 0.12499435991048813\n",
      "Epoch : 80 | Loss : 0.2143000066280365 | Test Loss : 0.0225289948284626\n",
      "Epoch : 90 | Loss : 0.12622281908988953 | Test Loss : 0.12035374343395233\n",
      "Epoch : 100 | Loss : 0.10245953500270844 | Test Loss : 0.168233722448349\n",
      "Epoch : 110 | Loss : 0.09405122697353363 | Test Loss : 0.18784606456756592\n",
      "Epoch : 120 | Loss : 0.08935592323541641 | Test Loss : 0.19347946345806122\n",
      "Epoch : 130 | Loss : 0.08557813614606857 | Test Loss : 0.19243232905864716\n",
      "Epoch : 140 | Loss : 0.08206592500209808 | Test Loss : 0.18824639916419983\n",
      "Epoch : 150 | Loss : 0.07862319052219391 | Test Loss : 0.18094496428966522\n",
      "Epoch : 160 | Loss : 0.07519618421792984 | Test Loss : 0.17329737544059753\n",
      "Epoch : 170 | Loss : 0.07176916301250458 | Test Loss : 0.16564978659152985\n",
      "Epoch : 180 | Loss : 0.06834215670824051 | Test Loss : 0.15800221264362335\n",
      "Epoch : 190 | Loss : 0.06491513550281525 | Test Loss : 0.15035459399223328\n",
      "Epoch : 200 | Loss : 0.061488114297389984 | Test Loss : 0.14270702004432678\n",
      "Epoch : 210 | Loss : 0.05806109309196472 | Test Loss : 0.1350594311952591\n",
      "Epoch : 220 | Loss : 0.054634083062410355 | Test Loss : 0.1274118423461914\n",
      "Epoch : 230 | Loss : 0.05120706558227539 | Test Loss : 0.11976424604654312\n",
      "Epoch : 240 | Loss : 0.047780055552721024 | Test Loss : 0.11211667209863663\n",
      "Epoch : 250 | Loss : 0.04435401037335396 | Test Loss : 0.10412509739398956\n",
      "Epoch : 260 | Loss : 0.04092894122004509 | Test Loss : 0.09578956663608551\n",
      "Epoch : 270 | Loss : 0.03750286251306534 | Test Loss : 0.08779777586460114\n",
      "Epoch : 280 | Loss : 0.03407677263021469 | Test Loss : 0.07980597019195557\n",
      "Epoch : 290 | Loss : 0.03065166249871254 | Test Loss : 0.0714702159166336\n",
      "Epoch : 300 | Loss : 0.02722557820379734 | Test Loss : 0.06347839534282684\n",
      "Epoch : 310 | Loss : 0.023799488320946693 | Test Loss : 0.05548660829663277\n",
      "Epoch : 320 | Loss : 0.02037438005208969 | Test Loss : 0.04715084284543991\n",
      "Epoch : 330 | Loss : 0.016948290169239044 | Test Loss : 0.03915902227163315\n",
      "Epoch : 340 | Loss : 0.01352220494300127 | Test Loss : 0.031167227774858475\n",
      "Epoch : 350 | Loss : 0.010097093880176544 | Test Loss : 0.022831464186310768\n",
      "Epoch : 360 | Loss : 0.006671006791293621 | Test Loss : 0.01483966689556837\n",
      "Epoch : 370 | Loss : 0.0032453439198434353 | Test Loss : 0.006850093603134155\n",
      "Epoch : 380 | Loss : 0.0032577477395534515 | Test Loss : 0.006678354926407337\n",
      "Epoch : 390 | Loss : 0.0032577477395534515 | Test Loss : 0.006678354926407337\n",
      "Epoch : 400 | Loss : 0.0032577477395534515 | Test Loss : 0.006678354926407337\n",
      "Epoch : 410 | Loss : 0.0032577477395534515 | Test Loss : 0.006678354926407337\n",
      "Epoch : 420 | Loss : 0.0032577477395534515 | Test Loss : 0.006678354926407337\n",
      "Epoch : 430 | Loss : 0.0032577477395534515 | Test Loss : 0.006678354926407337\n",
      "Epoch : 440 | Loss : 0.0032577477395534515 | Test Loss : 0.006678354926407337\n",
      "Epoch : 450 | Loss : 0.0032577477395534515 | Test Loss : 0.006678354926407337\n",
      "Epoch : 460 | Loss : 0.0032577477395534515 | Test Loss : 0.006678354926407337\n",
      "Epoch : 470 | Loss : 0.0032577477395534515 | Test Loss : 0.006678354926407337\n",
      "Epoch : 480 | Loss : 0.0032577477395534515 | Test Loss : 0.006678354926407337\n",
      "Epoch : 490 | Loss : 0.0032577477395534515 | Test Loss : 0.006678354926407337\n",
      "Epoch : 500 | Loss : 0.0032577477395534515 | Test Loss : 0.006678354926407337\n",
      "Epoch : 510 | Loss : 0.0032577477395534515 | Test Loss : 0.006678354926407337\n",
      "Epoch : 520 | Loss : 0.0032577477395534515 | Test Loss : 0.006678354926407337\n",
      "Epoch : 530 | Loss : 0.0032577477395534515 | Test Loss : 0.006678354926407337\n",
      "Epoch : 540 | Loss : 0.0032577477395534515 | Test Loss : 0.006678354926407337\n",
      "Epoch : 550 | Loss : 0.0032577477395534515 | Test Loss : 0.006678354926407337\n",
      "Epoch : 560 | Loss : 0.0032577477395534515 | Test Loss : 0.006678354926407337\n",
      "Epoch : 570 | Loss : 0.0032577477395534515 | Test Loss : 0.006678354926407337\n",
      "Epoch : 580 | Loss : 0.0032577477395534515 | Test Loss : 0.006678354926407337\n",
      "Epoch : 590 | Loss : 0.0032577477395534515 | Test Loss : 0.006678354926407337\n",
      "Epoch : 600 | Loss : 0.0032577477395534515 | Test Loss : 0.006678354926407337\n",
      "Epoch : 610 | Loss : 0.0032577477395534515 | Test Loss : 0.006678354926407337\n",
      "Epoch : 620 | Loss : 0.0032577477395534515 | Test Loss : 0.006678354926407337\n",
      "Epoch : 630 | Loss : 0.0032577477395534515 | Test Loss : 0.006678354926407337\n",
      "Epoch : 640 | Loss : 0.0032577477395534515 | Test Loss : 0.006678354926407337\n",
      "Epoch : 650 | Loss : 0.0032577477395534515 | Test Loss : 0.006678354926407337\n",
      "Epoch : 660 | Loss : 0.0032577477395534515 | Test Loss : 0.006678354926407337\n",
      "Epoch : 670 | Loss : 0.0032577477395534515 | Test Loss : 0.006678354926407337\n",
      "Epoch : 680 | Loss : 0.0032577477395534515 | Test Loss : 0.006678354926407337\n",
      "Epoch : 690 | Loss : 0.0032577477395534515 | Test Loss : 0.006678354926407337\n"
     ]
    }
   ],
   "source": [
    "epochs = 700\n",
    "\n",
    "epoch_list = []\n",
    "loss_list = []\n",
    "tst_loss_list = []\n",
    "\n",
    "\n",
    "for epoch in range(epochs):\n",
    "    play_model.train()\n",
    "    \n",
    "    y_pred = play_model(X_train)\n",
    "    \n",
    "    loss = loss_fn(y_pred, y_train)\n",
    "    \n",
    "    optim.zero_grad()\n",
    "    \n",
    "    loss.backward()\n",
    "    \n",
    "    optim.step()\n",
    "    \n",
    "    play_model.eval()\n",
    "    with torch.inference_mode():\n",
    "        y_pred_test = play_model(X_test)\n",
    "        test_loss = loss_fn(y_pred_test, y_test)\n",
    "        if epoch % 10 == 0:\n",
    "            epoch_list.append(epoch)\n",
    "            loss_list.append(loss)\n",
    "            tst_loss_list.append(test_loss)\n",
    "            print(f'Epoch : {epoch} | Loss : {loss} | Test Loss : {test_loss}')"
   ]
  },
  {
   "cell_type": "code",
   "execution_count": 38,
   "metadata": {},
   "outputs": [
    {
     "data": {
      "image/png": "[encoded data removed]",
      "text/plain": [
       "<Figure size 640x480 with 1 Axes>"
      ]
     },
     "metadata": {},
     "output_type": "display_data"
    }
   ],
   "source": [
    "fig, ax = plt.subplots()\n",
    "with torch.inference_mode():\n",
    "    ax.plot(epoch_list, loss_list, label=\"train loss\")\n",
    "    ax.plot(epoch_list, tst_loss_list, label=\"test loss\")\n",
    "    ax.set_title('loss over epoch')\n",
    "    ax.set_xlabel('epoch')\n",
    "    ax.set_ylabel('loss')"
   ]
  },
  {
   "cell_type": "code",
   "execution_count": 39,
   "metadata": {},
   "outputs": [],
   "source": [
    "from pathlib import Path\n",
    "\n",
    "MODEL_PATH = Path('../models')\n",
    "MODEL_PATH.mkdir(parents=True, exist_ok=True)\n",
    "\n",
    "MODEL_NAME =  \"01_pytorch_exercise_model.pth\"\n",
    "FULL_PATH = MODEL_PATH / MODEL_NAME\n",
    "torch.save(play_model.state_dict(), FULL_PATH)"
   ]
  },
  {
   "cell_type": "code",
   "execution_count": 40,
   "metadata": {},
   "outputs": [
    {
     "data": {
      "text/plain": [
       "<All keys matched successfully>"
      ]
     },
     "execution_count": 40,
     "metadata": {},
     "output_type": "execute_result"
    }
   ],
   "source": [
    "load_mod = linearRegress3()\n",
    "load_mod.load_state_dict(torch.load(FULL_PATH))\n"
   ]
  },
  {
   "cell_type": "code",
   "execution_count": 41,
   "metadata": {},
   "outputs": [
    {
     "data": {
      "text/plain": [
       "tensor([[True],\n",
       "        [True],\n",
       "        [True],\n",
       "        [True],\n",
       "        [True],\n",
       "        [True],\n",
       "        [True],\n",
       "        [True],\n",
       "        [True],\n",
       "        [True],\n",
       "        [True],\n",
       "        [True],\n",
       "        [True],\n",
       "        [True],\n",
       "        [True],\n",
       "        [True],\n",
       "        [True],\n",
       "        [True],\n",
       "        [True],\n",
       "        [True]])"
      ]
     },
     "execution_count": 41,
     "metadata": {},
     "output_type": "execute_result"
    }
   ],
   "source": [
    "load_mod(X_test) == play_model(X_test)"
   ]
  },
  {
   "cell_type": "code",
   "execution_count": null,
   "metadata": {},
   "outputs": [],
   "source": []
  }
 ],
 "metadata": {
  "kernelspec": {
   "display_name": "Python 3",
   "language": "python",
   "name": "python3"
  },
  "language_info": {
   "codemirror_mode": {
    "name": "ipython",
    "version": 3
   },
   "file_extension": ".py",
   "mimetype": "text/x-python",
   "name": "python",
   "nbconvert_exporter": "python",
   "pygments_lexer": "ipython3",
   "version": "3.11.4"
  }
 },
 "nbformat": 4,
 "nbformat_minor": 2
}
