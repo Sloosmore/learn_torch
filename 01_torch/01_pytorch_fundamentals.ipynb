{
 "cells": [
  {
   "cell_type": "markdown",
   "metadata": {},
   "source": [
    "# Pytorch workflow\n",
    "lets do a workflow"
   ]
  },
  {
   "cell_type": "code",
   "execution_count": 245,
   "metadata": {},
   "outputs": [],
   "source": [
    "what_we_cover = {1 : \"data\",\n",
    "                 2 : 'build',\n",
    "                 3:\"fit\",\n",
    "                 4: \"eval\",\n",
    "                 5:\"save load\",\n",
    "                 6:\"putting together\"\n",
    "                }"
   ]
  },
  {
   "cell_type": "code",
   "execution_count": 246,
   "metadata": {},
   "outputs": [],
   "source": [
    "import torch\n",
    "from torch import nn\n",
    "import matplotlib.pyplot as plt\n"
   ]
  },
  {
   "cell_type": "markdown",
   "metadata": {},
   "source": [
    "## data and prep\n",
    "\n",
    "can be almost anything \n",
    "- csv\n",
    "- img\n",
    "- videos\n",
    "- audio\n",
    "- text\n",
    "\n",
    "1. create numerical representation of data\n",
    "2. build model to recognise paterns in data\n",
    "\n",
    "lets start with some know data using lin regres"
   ]
  },
  {
   "cell_type": "code",
   "execution_count": 247,
   "metadata": {},
   "outputs": [
    {
     "data": {
      "text/plain": [
       "tensor([[0.3000],\n",
       "        [0.3140],\n",
       "        [0.3280],\n",
       "        [0.3420],\n",
       "        [0.3560],\n",
       "        [0.3700],\n",
       "        [0.3840],\n",
       "        [0.3980],\n",
       "        [0.4120],\n",
       "        [0.4260],\n",
       "        [0.4400],\n",
       "        [0.4540],\n",
       "        [0.4680],\n",
       "        [0.4820],\n",
       "        [0.4960],\n",
       "        [0.5100],\n",
       "        [0.5240],\n",
       "        [0.5380],\n",
       "        [0.5520],\n",
       "        [0.5660],\n",
       "        [0.5800],\n",
       "        [0.5940],\n",
       "        [0.6080],\n",
       "        [0.6220],\n",
       "        [0.6360],\n",
       "        [0.6500],\n",
       "        [0.6640],\n",
       "        [0.6780],\n",
       "        [0.6920],\n",
       "        [0.7060],\n",
       "        [0.7200],\n",
       "        [0.7340],\n",
       "        [0.7480],\n",
       "        [0.7620],\n",
       "        [0.7760],\n",
       "        [0.7900],\n",
       "        [0.8040],\n",
       "        [0.8180],\n",
       "        [0.8320],\n",
       "        [0.8460],\n",
       "        [0.8600],\n",
       "        [0.8740],\n",
       "        [0.8880],\n",
       "        [0.9020],\n",
       "        [0.9160],\n",
       "        [0.9300],\n",
       "        [0.9440],\n",
       "        [0.9580],\n",
       "        [0.9720],\n",
       "        [0.9860]])"
      ]
     },
     "execution_count": 247,
     "metadata": {},
     "output_type": "execute_result"
    }
   ],
   "source": [
    "#known param\n",
    "weight = .7\n",
    "bias = .3 \n",
    "\n",
    "start = 0 \n",
    "end = 1\n",
    "step = .02\n",
    "\n",
    "X = torch.arange(start, end, step).unsqueeze(dim=1)\n",
    "y = weight * X + bias\n",
    "y"
   ]
  },
  {
   "cell_type": "markdown",
   "metadata": {},
   "source": [
    "### spliting data into training and test data\n",
    "\n",
    "three datasets\n",
    "training set = 60-80\n",
    "validation set = 10-20 (making sure it is learning during learning)\n",
    "test set = 10-20 (final eval)\n",
    "\n",
    "the goal is for generalization \n",
    "\n",
    "What our model does start with weight and bias\n",
    "- look at training data \n",
    "- try to get close to where we need to be\n",
    "\n",
    "but how?\n",
    "1. grad descent \n",
    "2. backprop"
   ]
  },
  {
   "cell_type": "code",
   "execution_count": 248,
   "metadata": {},
   "outputs": [
    {
     "data": {
      "text/plain": [
       "(40, 10)"
      ]
     },
     "execution_count": 248,
     "metadata": {},
     "output_type": "execute_result"
    }
   ],
   "source": [
    "# create a train/test set\n",
    "train_split = int(.8 * len (X))\n",
    "X_train, y_train = X[:train_split], y[:train_split]\n",
    "X_test, y_test = X[train_split:], y[train_split:]\n",
    "\n",
    "len(X_train), len(y_test)"
   ]
  },
  {
   "cell_type": "markdown",
   "metadata": {},
   "source": [
    "how might we visualize our data?"
   ]
  },
  {
   "cell_type": "code",
   "execution_count": 249,
   "metadata": {},
   "outputs": [],
   "source": [
    "def plot_pred(train_data = X_train, train_labels = y_train, test_data = X_test, test_labels = y_test, predictions=None):\n",
    "    \"\"\"\n",
    "    Plots training and test data \n",
    "    Args:\n",
    "        train_data (_type_, optional): _description_. Defaults to X_train.\n",
    "        train_labels (_type_, optional): _description_. Defaults to y_train.\n",
    "        test_data (_type_, optional): _description_. Defaults to X_test.\n",
    "        test_labels (_type_, optional): _description_. Defaults to y_test.\n",
    "    \"\"\"\n",
    "    plt.figure(figsize=(10,7))\n",
    "    plt.scatter(train_data, train_labels, c=\"b\", s=4, label=\"training data\")\n",
    "    \n",
    "    plt.scatter(test_data, test_labels, c='g', s=4, label=\"Testing data\")\n",
    "    \n",
    "    if predictions is not None:\n",
    "        plt.scatter(test_data, predictions, c=\"r\", s=4, label='pred')\n",
    "        \n",
    "    plt.legend()\n",
    "    plt.show()\n"
   ]
  },
  {
   "cell_type": "code",
   "execution_count": 250,
   "metadata": {},
   "outputs": [
    {
     "data": {
      "image/png": "[encoded data removed]",
      "text/plain": [
       "<Figure size 1000x700 with 1 Axes>"
      ]
     },
     "metadata": {},
     "output_type": "display_data"
    }
   ],
   "source": [
    "plot_pred(X_train, y_train, X_test, y_test)"
   ]
  },
  {
   "cell_type": "markdown",
   "metadata": {},
   "source": [
    "## build our first model\n",
    "let do it\n"
   ]
  },
  {
   "cell_type": "code",
   "execution_count": 251,
   "metadata": {},
   "outputs": [],
   "source": [
    "## class inherits from nn.module\n",
    "# almost everything inherits from nn.module has nice inbuild things\n",
    "# model should subclass this class all modules contain other modules\n",
    "class LinearRegressionModel(nn.Module):\n",
    "    def __init__(self) -> None:\n",
    "        super().__init__()\n",
    "        ##this is the model weights we want to require grad because we cant to keep the gradient\n",
    "        #in fact this is only one tensor with \n",
    "        self.weights = nn.Parameter(torch.randn(1, requires_grad=True, dtype=torch.float))\n",
    "        self.bias =  nn.Parameter(torch.randn(1, requires_grad=True, dtype=torch.float))\n",
    "        \n",
    "        # any subclass of nn.module requires a foward method\n",
    "    def forward(self, x: torch.Tensor) -> torch.Tensor: # <- \"x\" is the input data \n",
    "        # this is the foward pass\n",
    "        return self.weights * x +  self.bias # this is the linear regresstion "
   ]
  },
  {
   "cell_type": "markdown",
   "metadata": {},
   "source": [
    "### main pytorch classes\n",
    "- torch.nn contains all building blocks for computational graphs\n",
    "- torch.params what the nn tries to learn\n",
    "- torch.nn.Module base class for nn modules\n",
    "- torch.optim\n"
   ]
  },
  {
   "cell_type": "code",
   "execution_count": 252,
   "metadata": {},
   "outputs": [
    {
     "data": {
      "text/plain": [
       "[Parameter containing:\n",
       " tensor([0.3367], requires_grad=True),\n",
       " Parameter containing:\n",
       " tensor([0.1288], requires_grad=True)]"
      ]
     },
     "execution_count": 252,
     "metadata": {},
     "output_type": "execute_result"
    }
   ],
   "source": [
    "# create random seed \n",
    "torch.manual_seed(42)\n",
    "\n",
    "model_0 = LinearRegressionModel()\n",
    "\n",
    "list(model_0.parameters())"
   ]
  },
  {
   "cell_type": "code",
   "execution_count": 253,
   "metadata": {},
   "outputs": [
    {
     "data": {
      "text/plain": [
       "OrderedDict([('weights', tensor([0.3367])), ('bias', tensor([0.1288]))])"
      ]
     },
     "execution_count": 253,
     "metadata": {},
     "output_type": "execute_result"
    }
   ],
   "source": [
    "model_0.state_dict()\n",
    "#list parameters in dictionary format"
   ]
  },
  {
   "cell_type": "code",
   "execution_count": 254,
   "metadata": {},
   "outputs": [
    {
     "data": {
      "text/plain": [
       "tensor([[0.3982],\n",
       "        [0.4049],\n",
       "        [0.4116],\n",
       "        [0.4184],\n",
       "        [0.4251],\n",
       "        [0.4318],\n",
       "        [0.4386],\n",
       "        [0.4453],\n",
       "        [0.4520],\n",
       "        [0.4588]])"
      ]
     },
     "execution_count": 254,
     "metadata": {},
     "output_type": "execute_result"
    }
   ],
   "source": [
    "#making prep using torch.inference mode\n",
    "with torch.inference_mode():\n",
    "    y_pred = model_0(X_test)\n",
    "    \n",
    "y_pred"
   ]
  },
  {
   "cell_type": "code",
   "execution_count": 255,
   "metadata": {},
   "outputs": [
    {
     "data": {
      "text/plain": [
       "tensor([[0.3982],\n",
       "        [0.4049],\n",
       "        [0.4116],\n",
       "        [0.4184],\n",
       "        [0.4251],\n",
       "        [0.4318],\n",
       "        [0.4386],\n",
       "        [0.4453],\n",
       "        [0.4520],\n",
       "        [0.4588]])"
      ]
     },
     "execution_count": 255,
     "metadata": {},
     "output_type": "execute_result"
    }
   ],
   "source": [
    "with torch.no_grad():\n",
    "    y_pred = model_0(X_test)\n",
    "    \n",
    "y_pred"
   ]
  },
  {
   "cell_type": "code",
   "execution_count": 256,
   "metadata": {},
   "outputs": [
    {
     "data": {
      "image/png": "[encoded data removed]",
      "text/plain": [
       "<Figure size 1000x700 with 1 Axes>"
      ]
     },
     "metadata": {},
     "output_type": "display_data"
    }
   ],
   "source": [
    "plot_pred(predictions=y_pred)"
   ]
  },
  {
   "cell_type": "code",
   "execution_count": 257,
   "metadata": {},
   "outputs": [],
   "source": [
    "# the idea of training a model is to move from unknown to known models\n",
    "\n",
    "#use a loos function to find how bad model representation is\n",
    "\n",
    "\"\"\"\n",
    "    what we need to train \n",
    "    loss function -> parameter?\n",
    "    optimizer -> parameter? \n",
    "\"\"\"\n",
    " \n",
    "\"\"\"\n",
    "we also need a test and train loop\n",
    "\"\"\"\n",
    "\n",
    "loss_fn = nn.L1Loss()\n",
    "\n",
    "\n",
    "# in optim set model params and lr\n",
    "# small lr results to small jumps, important to find good center\n",
    "optimizer = torch.optim.SGD(params=model_0.parameters(), lr=.01)"
   ]
  },
  {
   "cell_type": "markdown",
   "metadata": {},
   "source": [
    "### building training loop!\n",
    "0. loop through data\n",
    "1. foward pass .foward() (foward prop)\n",
    "2. Calc loss of function (compare foward pass to ground truth)\n",
    "3. Optimizer zero grad\n",
    "4. Loss backward (calc gradient wth respect to loss)\n",
    "5. optim step"
   ]
  },
  {
   "cell_type": "code",
   "execution_count": 258,
   "metadata": {},
   "outputs": [
    {
     "name": "stdout",
     "output_type": "stream",
     "text": [
      "loss tensor(0.3129, grad_fn=<MeanBackward0>)\n",
      "epoch: 0| loss: 0.31288138031959534| test_loss:0.48106518387794495\n",
      "OrderedDict([('weights', tensor([0.3406])), ('bias', tensor([0.1388]))])\n",
      "loss tensor(0.3014, grad_fn=<MeanBackward0>)\n",
      "loss tensor(0.2898, grad_fn=<MeanBackward0>)\n",
      "loss tensor(0.2783, grad_fn=<MeanBackward0>)\n",
      "loss tensor(0.2668, grad_fn=<MeanBackward0>)\n",
      "loss tensor(0.2553, grad_fn=<MeanBackward0>)\n",
      "loss tensor(0.2438, grad_fn=<MeanBackward0>)\n",
      "loss tensor(0.2322, grad_fn=<MeanBackward0>)\n",
      "loss tensor(0.2207, grad_fn=<MeanBackward0>)\n",
      "loss tensor(0.2092, grad_fn=<MeanBackward0>)\n",
      "loss tensor(0.1977, grad_fn=<MeanBackward0>)\n",
      "epoch: 10| loss: 0.1976713240146637| test_loss:0.3463551998138428\n",
      "OrderedDict([('weights', tensor([0.3796])), ('bias', tensor([0.2388]))])\n",
      "loss tensor(0.1862, grad_fn=<MeanBackward0>)\n",
      "loss tensor(0.1746, grad_fn=<MeanBackward0>)\n",
      "loss tensor(0.1631, grad_fn=<MeanBackward0>)\n",
      "loss tensor(0.1516, grad_fn=<MeanBackward0>)\n",
      "loss tensor(0.1401, grad_fn=<MeanBackward0>)\n",
      "loss tensor(0.1285, grad_fn=<MeanBackward0>)\n",
      "loss tensor(0.1170, grad_fn=<MeanBackward0>)\n",
      "loss tensor(0.1061, grad_fn=<MeanBackward0>)\n",
      "loss tensor(0.0968, grad_fn=<MeanBackward0>)\n",
      "loss tensor(0.0891, grad_fn=<MeanBackward0>)\n",
      "epoch: 20| loss: 0.08908725529909134| test_loss:0.21729660034179688\n",
      "OrderedDict([('weights', tensor([0.4184])), ('bias', tensor([0.3333]))])\n",
      "loss tensor(0.0823, grad_fn=<MeanBackward0>)\n",
      "loss tensor(0.0764, grad_fn=<MeanBackward0>)\n",
      "loss tensor(0.0716, grad_fn=<MeanBackward0>)\n",
      "loss tensor(0.0675, grad_fn=<MeanBackward0>)\n",
      "loss tensor(0.0640, grad_fn=<MeanBackward0>)\n",
      "loss tensor(0.0610, grad_fn=<MeanBackward0>)\n",
      "loss tensor(0.0585, grad_fn=<MeanBackward0>)\n",
      "loss tensor(0.0564, grad_fn=<MeanBackward0>)\n",
      "loss tensor(0.0546, grad_fn=<MeanBackward0>)\n",
      "loss tensor(0.0531, grad_fn=<MeanBackward0>)\n",
      "epoch: 30| loss: 0.053148526698350906| test_loss:0.14464017748832703\n",
      "OrderedDict([('weights', tensor([0.4512])), ('bias', tensor([0.3768]))])\n",
      "loss tensor(0.0518, grad_fn=<MeanBackward0>)\n",
      "loss tensor(0.0507, grad_fn=<MeanBackward0>)\n",
      "loss tensor(0.0498, grad_fn=<MeanBackward0>)\n",
      "loss tensor(0.0490, grad_fn=<MeanBackward0>)\n",
      "loss tensor(0.0482, grad_fn=<MeanBackward0>)\n",
      "loss tensor(0.0475, grad_fn=<MeanBackward0>)\n",
      "loss tensor(0.0469, grad_fn=<MeanBackward0>)\n",
      "loss tensor(0.0464, grad_fn=<MeanBackward0>)\n",
      "loss tensor(0.0459, grad_fn=<MeanBackward0>)\n",
      "loss tensor(0.0454, grad_fn=<MeanBackward0>)\n",
      "epoch: 40| loss: 0.04543796554207802| test_loss:0.11360953003168106\n",
      "OrderedDict([('weights', tensor([0.4748])), ('bias', tensor([0.3868]))])\n",
      "loss tensor(0.0450, grad_fn=<MeanBackward0>)\n",
      "loss tensor(0.0446, grad_fn=<MeanBackward0>)\n",
      "loss tensor(0.0442, grad_fn=<MeanBackward0>)\n",
      "loss tensor(0.0438, grad_fn=<MeanBackward0>)\n",
      "loss tensor(0.0434, grad_fn=<MeanBackward0>)\n",
      "loss tensor(0.0431, grad_fn=<MeanBackward0>)\n",
      "loss tensor(0.0427, grad_fn=<MeanBackward0>)\n",
      "loss tensor(0.0424, grad_fn=<MeanBackward0>)\n",
      "loss tensor(0.0420, grad_fn=<MeanBackward0>)\n",
      "loss tensor(0.0417, grad_fn=<MeanBackward0>)\n",
      "epoch: 50| loss: 0.04167863354086876| test_loss:0.09919948130846024\n",
      "OrderedDict([('weights', tensor([0.4938])), ('bias', tensor([0.3843]))])\n",
      "loss tensor(0.0413, grad_fn=<MeanBackward0>)\n",
      "loss tensor(0.0410, grad_fn=<MeanBackward0>)\n",
      "loss tensor(0.0406, grad_fn=<MeanBackward0>)\n",
      "loss tensor(0.0403, grad_fn=<MeanBackward0>)\n",
      "loss tensor(0.0399, grad_fn=<MeanBackward0>)\n",
      "loss tensor(0.0396, grad_fn=<MeanBackward0>)\n",
      "loss tensor(0.0392, grad_fn=<MeanBackward0>)\n",
      "loss tensor(0.0389, grad_fn=<MeanBackward0>)\n",
      "loss tensor(0.0385, grad_fn=<MeanBackward0>)\n",
      "loss tensor(0.0382, grad_fn=<MeanBackward0>)\n",
      "epoch: 60| loss: 0.03818932920694351| test_loss:0.08886633068323135\n",
      "OrderedDict([('weights', tensor([0.5116])), ('bias', tensor([0.3788]))])\n",
      "loss tensor(0.0379, grad_fn=<MeanBackward0>)\n",
      "loss tensor(0.0375, grad_fn=<MeanBackward0>)\n",
      "loss tensor(0.0372, grad_fn=<MeanBackward0>)\n",
      "loss tensor(0.0368, grad_fn=<MeanBackward0>)\n",
      "loss tensor(0.0365, grad_fn=<MeanBackward0>)\n",
      "loss tensor(0.0361, grad_fn=<MeanBackward0>)\n",
      "loss tensor(0.0358, grad_fn=<MeanBackward0>)\n",
      "loss tensor(0.0354, grad_fn=<MeanBackward0>)\n",
      "loss tensor(0.0351, grad_fn=<MeanBackward0>)\n",
      "loss tensor(0.0348, grad_fn=<MeanBackward0>)\n",
      "epoch: 70| loss: 0.03476089984178543| test_loss:0.0805937647819519\n",
      "OrderedDict([('weights', tensor([0.5288])), ('bias', tensor([0.3718]))])\n",
      "loss tensor(0.0344, grad_fn=<MeanBackward0>)\n",
      "loss tensor(0.0341, grad_fn=<MeanBackward0>)\n",
      "loss tensor(0.0337, grad_fn=<MeanBackward0>)\n",
      "loss tensor(0.0334, grad_fn=<MeanBackward0>)\n",
      "loss tensor(0.0330, grad_fn=<MeanBackward0>)\n",
      "loss tensor(0.0327, grad_fn=<MeanBackward0>)\n",
      "loss tensor(0.0324, grad_fn=<MeanBackward0>)\n",
      "loss tensor(0.0320, grad_fn=<MeanBackward0>)\n",
      "loss tensor(0.0317, grad_fn=<MeanBackward0>)\n",
      "loss tensor(0.0313, grad_fn=<MeanBackward0>)\n",
      "epoch: 80| loss: 0.03132382780313492| test_loss:0.07232122868299484\n",
      "OrderedDict([('weights', tensor([0.5459])), ('bias', tensor([0.3648]))])\n",
      "loss tensor(0.0310, grad_fn=<MeanBackward0>)\n",
      "loss tensor(0.0306, grad_fn=<MeanBackward0>)\n",
      "loss tensor(0.0303, grad_fn=<MeanBackward0>)\n",
      "loss tensor(0.0300, grad_fn=<MeanBackward0>)\n",
      "loss tensor(0.0296, grad_fn=<MeanBackward0>)\n",
      "loss tensor(0.0293, grad_fn=<MeanBackward0>)\n",
      "loss tensor(0.0289, grad_fn=<MeanBackward0>)\n",
      "loss tensor(0.0286, grad_fn=<MeanBackward0>)\n",
      "loss tensor(0.0282, grad_fn=<MeanBackward0>)\n",
      "loss tensor(0.0279, grad_fn=<MeanBackward0>)\n",
      "epoch: 90| loss: 0.02788740023970604| test_loss:0.06473556160926819\n",
      "OrderedDict([('weights', tensor([0.5629])), ('bias', tensor([0.3573]))])\n",
      "loss tensor(0.0275, grad_fn=<MeanBackward0>)\n",
      "loss tensor(0.0272, grad_fn=<MeanBackward0>)\n",
      "loss tensor(0.0269, grad_fn=<MeanBackward0>)\n",
      "loss tensor(0.0265, grad_fn=<MeanBackward0>)\n",
      "loss tensor(0.0262, grad_fn=<MeanBackward0>)\n",
      "loss tensor(0.0258, grad_fn=<MeanBackward0>)\n",
      "loss tensor(0.0255, grad_fn=<MeanBackward0>)\n",
      "loss tensor(0.0251, grad_fn=<MeanBackward0>)\n",
      "loss tensor(0.0248, grad_fn=<MeanBackward0>)\n",
      "loss tensor(0.0245, grad_fn=<MeanBackward0>)\n",
      "epoch: 100| loss: 0.024458957836031914| test_loss:0.05646304413676262\n",
      "OrderedDict([('weights', tensor([0.5800])), ('bias', tensor([0.3503]))])\n",
      "loss tensor(0.0241, grad_fn=<MeanBackward0>)\n",
      "loss tensor(0.0238, grad_fn=<MeanBackward0>)\n",
      "loss tensor(0.0234, grad_fn=<MeanBackward0>)\n",
      "loss tensor(0.0231, grad_fn=<MeanBackward0>)\n",
      "loss tensor(0.0227, grad_fn=<MeanBackward0>)\n",
      "loss tensor(0.0224, grad_fn=<MeanBackward0>)\n",
      "loss tensor(0.0221, grad_fn=<MeanBackward0>)\n",
      "loss tensor(0.0217, grad_fn=<MeanBackward0>)\n",
      "loss tensor(0.0214, grad_fn=<MeanBackward0>)\n",
      "loss tensor(0.0210, grad_fn=<MeanBackward0>)\n",
      "epoch: 110| loss: 0.021020209416747093| test_loss:0.04819049686193466\n",
      "OrderedDict([('weights', tensor([0.5972])), ('bias', tensor([0.3433]))])\n",
      "loss tensor(0.0207, grad_fn=<MeanBackward0>)\n",
      "loss tensor(0.0203, grad_fn=<MeanBackward0>)\n",
      "loss tensor(0.0200, grad_fn=<MeanBackward0>)\n",
      "loss tensor(0.0196, grad_fn=<MeanBackward0>)\n",
      "loss tensor(0.0193, grad_fn=<MeanBackward0>)\n",
      "loss tensor(0.0190, grad_fn=<MeanBackward0>)\n",
      "loss tensor(0.0186, grad_fn=<MeanBackward0>)\n",
      "loss tensor(0.0183, grad_fn=<MeanBackward0>)\n",
      "loss tensor(0.0179, grad_fn=<MeanBackward0>)\n",
      "loss tensor(0.0176, grad_fn=<MeanBackward0>)\n",
      "epoch: 120| loss: 0.01758546754717827| test_loss:0.04060482233762741\n",
      "OrderedDict([('weights', tensor([0.6141])), ('bias', tensor([0.3358]))])\n",
      "loss tensor(0.0172, grad_fn=<MeanBackward0>)\n",
      "loss tensor(0.0169, grad_fn=<MeanBackward0>)\n",
      "loss tensor(0.0166, grad_fn=<MeanBackward0>)\n",
      "loss tensor(0.0162, grad_fn=<MeanBackward0>)\n",
      "loss tensor(0.0159, grad_fn=<MeanBackward0>)\n",
      "loss tensor(0.0155, grad_fn=<MeanBackward0>)\n",
      "loss tensor(0.0152, grad_fn=<MeanBackward0>)\n",
      "loss tensor(0.0148, grad_fn=<MeanBackward0>)\n",
      "loss tensor(0.0145, grad_fn=<MeanBackward0>)\n",
      "loss tensor(0.0142, grad_fn=<MeanBackward0>)\n",
      "epoch: 130| loss: 0.014155392535030842| test_loss:0.03233227878808975\n",
      "OrderedDict([('weights', tensor([0.6313])), ('bias', tensor([0.3288]))])\n",
      "loss tensor(0.0138, grad_fn=<MeanBackward0>)\n",
      "loss tensor(0.0135, grad_fn=<MeanBackward0>)\n",
      "loss tensor(0.0131, grad_fn=<MeanBackward0>)\n",
      "loss tensor(0.0128, grad_fn=<MeanBackward0>)\n",
      "loss tensor(0.0124, grad_fn=<MeanBackward0>)\n",
      "loss tensor(0.0121, grad_fn=<MeanBackward0>)\n",
      "loss tensor(0.0118, grad_fn=<MeanBackward0>)\n",
      "loss tensor(0.0114, grad_fn=<MeanBackward0>)\n",
      "loss tensor(0.0111, grad_fn=<MeanBackward0>)\n",
      "loss tensor(0.0107, grad_fn=<MeanBackward0>)\n",
      "epoch: 140| loss: 0.010716588236391544| test_loss:0.024059748277068138\n",
      "OrderedDict([('weights', tensor([0.6485])), ('bias', tensor([0.3218]))])\n",
      "loss tensor(0.0104, grad_fn=<MeanBackward0>)\n",
      "loss tensor(0.0100, grad_fn=<MeanBackward0>)\n",
      "loss tensor(0.0097, grad_fn=<MeanBackward0>)\n",
      "loss tensor(0.0093, grad_fn=<MeanBackward0>)\n",
      "loss tensor(0.0090, grad_fn=<MeanBackward0>)\n",
      "loss tensor(0.0087, grad_fn=<MeanBackward0>)\n",
      "loss tensor(0.0083, grad_fn=<MeanBackward0>)\n",
      "loss tensor(0.0080, grad_fn=<MeanBackward0>)\n",
      "loss tensor(0.0076, grad_fn=<MeanBackward0>)\n",
      "loss tensor(0.0073, grad_fn=<MeanBackward0>)\n",
      "epoch: 150| loss: 0.0072835348546504974| test_loss:0.016474086791276932\n",
      "OrderedDict([('weights', tensor([0.6654])), ('bias', tensor([0.3143]))])\n",
      "loss tensor(0.0069, grad_fn=<MeanBackward0>)\n",
      "loss tensor(0.0066, grad_fn=<MeanBackward0>)\n",
      "loss tensor(0.0063, grad_fn=<MeanBackward0>)\n",
      "loss tensor(0.0059, grad_fn=<MeanBackward0>)\n",
      "loss tensor(0.0056, grad_fn=<MeanBackward0>)\n",
      "loss tensor(0.0052, grad_fn=<MeanBackward0>)\n",
      "loss tensor(0.0049, grad_fn=<MeanBackward0>)\n",
      "loss tensor(0.0045, grad_fn=<MeanBackward0>)\n",
      "loss tensor(0.0042, grad_fn=<MeanBackward0>)\n",
      "loss tensor(0.0039, grad_fn=<MeanBackward0>)\n",
      "epoch: 160| loss: 0.003851778106763959| test_loss:0.008201557211577892\n",
      "OrderedDict([('weights', tensor([0.6826])), ('bias', tensor([0.3073]))])\n",
      "loss tensor(0.0035, grad_fn=<MeanBackward0>)\n",
      "loss tensor(0.0032, grad_fn=<MeanBackward0>)\n",
      "loss tensor(0.0028, grad_fn=<MeanBackward0>)\n",
      "loss tensor(0.0025, grad_fn=<MeanBackward0>)\n",
      "loss tensor(0.0021, grad_fn=<MeanBackward0>)\n",
      "loss tensor(0.0018, grad_fn=<MeanBackward0>)\n",
      "loss tensor(0.0015, grad_fn=<MeanBackward0>)\n",
      "loss tensor(0.0012, grad_fn=<MeanBackward0>)\n",
      "loss tensor(0.0026, grad_fn=<MeanBackward0>)\n",
      "loss tensor(0.0089, grad_fn=<MeanBackward0>)\n",
      "epoch: 170| loss: 0.00893248151987791| test_loss:0.005023092031478882\n",
      "OrderedDict([('weights', tensor([0.6951])), ('bias', tensor([0.2993]))])\n",
      "loss tensor(0.0026, grad_fn=<MeanBackward0>)\n",
      "loss tensor(0.0089, grad_fn=<MeanBackward0>)\n",
      "loss tensor(0.0026, grad_fn=<MeanBackward0>)\n",
      "loss tensor(0.0089, grad_fn=<MeanBackward0>)\n",
      "loss tensor(0.0026, grad_fn=<MeanBackward0>)\n",
      "loss tensor(0.0089, grad_fn=<MeanBackward0>)\n",
      "loss tensor(0.0026, grad_fn=<MeanBackward0>)\n",
      "loss tensor(0.0089, grad_fn=<MeanBackward0>)\n",
      "loss tensor(0.0026, grad_fn=<MeanBackward0>)\n",
      "loss tensor(0.0089, grad_fn=<MeanBackward0>)\n",
      "epoch: 180| loss: 0.00893248151987791| test_loss:0.005023092031478882\n",
      "OrderedDict([('weights', tensor([0.6951])), ('bias', tensor([0.2993]))])\n",
      "loss tensor(0.0026, grad_fn=<MeanBackward0>)\n",
      "loss tensor(0.0089, grad_fn=<MeanBackward0>)\n",
      "loss tensor(0.0026, grad_fn=<MeanBackward0>)\n",
      "loss tensor(0.0089, grad_fn=<MeanBackward0>)\n",
      "loss tensor(0.0026, grad_fn=<MeanBackward0>)\n",
      "loss tensor(0.0089, grad_fn=<MeanBackward0>)\n",
      "loss tensor(0.0026, grad_fn=<MeanBackward0>)\n",
      "loss tensor(0.0089, grad_fn=<MeanBackward0>)\n",
      "loss tensor(0.0026, grad_fn=<MeanBackward0>)\n",
      "loss tensor(0.0089, grad_fn=<MeanBackward0>)\n",
      "epoch: 190| loss: 0.00893248151987791| test_loss:0.005023092031478882\n",
      "OrderedDict([('weights', tensor([0.6951])), ('bias', tensor([0.2993]))])\n",
      "loss tensor(0.0026, grad_fn=<MeanBackward0>)\n",
      "loss tensor(0.0089, grad_fn=<MeanBackward0>)\n",
      "loss tensor(0.0026, grad_fn=<MeanBackward0>)\n",
      "loss tensor(0.0089, grad_fn=<MeanBackward0>)\n",
      "loss tensor(0.0026, grad_fn=<MeanBackward0>)\n",
      "loss tensor(0.0089, grad_fn=<MeanBackward0>)\n",
      "loss tensor(0.0026, grad_fn=<MeanBackward0>)\n",
      "loss tensor(0.0089, grad_fn=<MeanBackward0>)\n",
      "loss tensor(0.0026, grad_fn=<MeanBackward0>)\n",
      "loss tensor(0.0089, grad_fn=<MeanBackward0>)\n",
      "epoch: 200| loss: 0.00893248151987791| test_loss:0.005023092031478882\n",
      "OrderedDict([('weights', tensor([0.6951])), ('bias', tensor([0.2993]))])\n",
      "loss tensor(0.0026, grad_fn=<MeanBackward0>)\n",
      "loss tensor(0.0089, grad_fn=<MeanBackward0>)\n",
      "loss tensor(0.0026, grad_fn=<MeanBackward0>)\n",
      "loss tensor(0.0089, grad_fn=<MeanBackward0>)\n",
      "loss tensor(0.0026, grad_fn=<MeanBackward0>)\n",
      "loss tensor(0.0089, grad_fn=<MeanBackward0>)\n",
      "loss tensor(0.0026, grad_fn=<MeanBackward0>)\n",
      "loss tensor(0.0089, grad_fn=<MeanBackward0>)\n",
      "loss tensor(0.0026, grad_fn=<MeanBackward0>)\n",
      "loss tensor(0.0089, grad_fn=<MeanBackward0>)\n",
      "epoch: 210| loss: 0.00893248151987791| test_loss:0.005023092031478882\n",
      "OrderedDict([('weights', tensor([0.6951])), ('bias', tensor([0.2993]))])\n",
      "loss tensor(0.0026, grad_fn=<MeanBackward0>)\n",
      "loss tensor(0.0089, grad_fn=<MeanBackward0>)\n",
      "loss tensor(0.0026, grad_fn=<MeanBackward0>)\n",
      "loss tensor(0.0089, grad_fn=<MeanBackward0>)\n",
      "loss tensor(0.0026, grad_fn=<MeanBackward0>)\n",
      "loss tensor(0.0089, grad_fn=<MeanBackward0>)\n",
      "loss tensor(0.0026, grad_fn=<MeanBackward0>)\n",
      "loss tensor(0.0089, grad_fn=<MeanBackward0>)\n",
      "loss tensor(0.0026, grad_fn=<MeanBackward0>)\n",
      "loss tensor(0.0089, grad_fn=<MeanBackward0>)\n",
      "epoch: 220| loss: 0.00893248151987791| test_loss:0.005023092031478882\n",
      "OrderedDict([('weights', tensor([0.6951])), ('bias', tensor([0.2993]))])\n",
      "loss tensor(0.0026, grad_fn=<MeanBackward0>)\n",
      "loss tensor(0.0089, grad_fn=<MeanBackward0>)\n",
      "loss tensor(0.0026, grad_fn=<MeanBackward0>)\n",
      "loss tensor(0.0089, grad_fn=<MeanBackward0>)\n",
      "loss tensor(0.0026, grad_fn=<MeanBackward0>)\n",
      "loss tensor(0.0089, grad_fn=<MeanBackward0>)\n",
      "loss tensor(0.0026, grad_fn=<MeanBackward0>)\n",
      "loss tensor(0.0089, grad_fn=<MeanBackward0>)\n",
      "loss tensor(0.0026, grad_fn=<MeanBackward0>)\n",
      "loss tensor(0.0089, grad_fn=<MeanBackward0>)\n",
      "epoch: 230| loss: 0.00893248151987791| test_loss:0.005023092031478882\n",
      "OrderedDict([('weights', tensor([0.6951])), ('bias', tensor([0.2993]))])\n",
      "loss tensor(0.0026, grad_fn=<MeanBackward0>)\n",
      "loss tensor(0.0089, grad_fn=<MeanBackward0>)\n",
      "loss tensor(0.0026, grad_fn=<MeanBackward0>)\n",
      "loss tensor(0.0089, grad_fn=<MeanBackward0>)\n",
      "loss tensor(0.0026, grad_fn=<MeanBackward0>)\n",
      "loss tensor(0.0089, grad_fn=<MeanBackward0>)\n",
      "loss tensor(0.0026, grad_fn=<MeanBackward0>)\n",
      "loss tensor(0.0089, grad_fn=<MeanBackward0>)\n",
      "loss tensor(0.0026, grad_fn=<MeanBackward0>)\n",
      "loss tensor(0.0089, grad_fn=<MeanBackward0>)\n",
      "epoch: 240| loss: 0.00893248151987791| test_loss:0.005023092031478882\n",
      "OrderedDict([('weights', tensor([0.6951])), ('bias', tensor([0.2993]))])\n",
      "loss tensor(0.0026, grad_fn=<MeanBackward0>)\n",
      "loss tensor(0.0089, grad_fn=<MeanBackward0>)\n",
      "loss tensor(0.0026, grad_fn=<MeanBackward0>)\n",
      "loss tensor(0.0089, grad_fn=<MeanBackward0>)\n",
      "loss tensor(0.0026, grad_fn=<MeanBackward0>)\n",
      "loss tensor(0.0089, grad_fn=<MeanBackward0>)\n",
      "loss tensor(0.0026, grad_fn=<MeanBackward0>)\n",
      "loss tensor(0.0089, grad_fn=<MeanBackward0>)\n",
      "loss tensor(0.0026, grad_fn=<MeanBackward0>)\n",
      "loss tensor(0.0089, grad_fn=<MeanBackward0>)\n",
      "epoch: 250| loss: 0.00893248151987791| test_loss:0.005023092031478882\n",
      "OrderedDict([('weights', tensor([0.6951])), ('bias', tensor([0.2993]))])\n",
      "loss tensor(0.0026, grad_fn=<MeanBackward0>)\n",
      "loss tensor(0.0089, grad_fn=<MeanBackward0>)\n",
      "loss tensor(0.0026, grad_fn=<MeanBackward0>)\n",
      "loss tensor(0.0089, grad_fn=<MeanBackward0>)\n",
      "loss tensor(0.0026, grad_fn=<MeanBackward0>)\n",
      "loss tensor(0.0089, grad_fn=<MeanBackward0>)\n",
      "loss tensor(0.0026, grad_fn=<MeanBackward0>)\n",
      "loss tensor(0.0089, grad_fn=<MeanBackward0>)\n",
      "loss tensor(0.0026, grad_fn=<MeanBackward0>)\n",
      "loss tensor(0.0089, grad_fn=<MeanBackward0>)\n",
      "epoch: 260| loss: 0.00893248151987791| test_loss:0.005023092031478882\n",
      "OrderedDict([('weights', tensor([0.6951])), ('bias', tensor([0.2993]))])\n",
      "loss tensor(0.0026, grad_fn=<MeanBackward0>)\n",
      "loss tensor(0.0089, grad_fn=<MeanBackward0>)\n",
      "loss tensor(0.0026, grad_fn=<MeanBackward0>)\n",
      "loss tensor(0.0089, grad_fn=<MeanBackward0>)\n",
      "loss tensor(0.0026, grad_fn=<MeanBackward0>)\n",
      "loss tensor(0.0089, grad_fn=<MeanBackward0>)\n",
      "loss tensor(0.0026, grad_fn=<MeanBackward0>)\n",
      "loss tensor(0.0089, grad_fn=<MeanBackward0>)\n",
      "loss tensor(0.0026, grad_fn=<MeanBackward0>)\n",
      "loss tensor(0.0089, grad_fn=<MeanBackward0>)\n",
      "epoch: 270| loss: 0.00893248151987791| test_loss:0.005023092031478882\n",
      "OrderedDict([('weights', tensor([0.6951])), ('bias', tensor([0.2993]))])\n",
      "loss tensor(0.0026, grad_fn=<MeanBackward0>)\n",
      "loss tensor(0.0089, grad_fn=<MeanBackward0>)\n",
      "loss tensor(0.0026, grad_fn=<MeanBackward0>)\n",
      "loss tensor(0.0089, grad_fn=<MeanBackward0>)\n",
      "loss tensor(0.0026, grad_fn=<MeanBackward0>)\n",
      "loss tensor(0.0089, grad_fn=<MeanBackward0>)\n",
      "loss tensor(0.0026, grad_fn=<MeanBackward0>)\n",
      "loss tensor(0.0089, grad_fn=<MeanBackward0>)\n",
      "loss tensor(0.0026, grad_fn=<MeanBackward0>)\n",
      "loss tensor(0.0089, grad_fn=<MeanBackward0>)\n",
      "epoch: 280| loss: 0.00893248151987791| test_loss:0.005023092031478882\n",
      "OrderedDict([('weights', tensor([0.6951])), ('bias', tensor([0.2993]))])\n",
      "loss tensor(0.0026, grad_fn=<MeanBackward0>)\n",
      "loss tensor(0.0089, grad_fn=<MeanBackward0>)\n",
      "loss tensor(0.0026, grad_fn=<MeanBackward0>)\n",
      "loss tensor(0.0089, grad_fn=<MeanBackward0>)\n",
      "loss tensor(0.0026, grad_fn=<MeanBackward0>)\n",
      "loss tensor(0.0089, grad_fn=<MeanBackward0>)\n",
      "loss tensor(0.0026, grad_fn=<MeanBackward0>)\n",
      "loss tensor(0.0089, grad_fn=<MeanBackward0>)\n",
      "loss tensor(0.0026, grad_fn=<MeanBackward0>)\n",
      "loss tensor(0.0089, grad_fn=<MeanBackward0>)\n",
      "epoch: 290| loss: 0.00893248151987791| test_loss:0.005023092031478882\n",
      "OrderedDict([('weights', tensor([0.6951])), ('bias', tensor([0.2993]))])\n",
      "loss tensor(0.0026, grad_fn=<MeanBackward0>)\n",
      "loss tensor(0.0089, grad_fn=<MeanBackward0>)\n",
      "loss tensor(0.0026, grad_fn=<MeanBackward0>)\n",
      "loss tensor(0.0089, grad_fn=<MeanBackward0>)\n",
      "loss tensor(0.0026, grad_fn=<MeanBackward0>)\n",
      "loss tensor(0.0089, grad_fn=<MeanBackward0>)\n",
      "loss tensor(0.0026, grad_fn=<MeanBackward0>)\n",
      "loss tensor(0.0089, grad_fn=<MeanBackward0>)\n",
      "loss tensor(0.0026, grad_fn=<MeanBackward0>)\n",
      "loss tensor(0.0089, grad_fn=<MeanBackward0>)\n",
      "epoch: 300| loss: 0.00893248151987791| test_loss:0.005023092031478882\n",
      "OrderedDict([('weights', tensor([0.6951])), ('bias', tensor([0.2993]))])\n",
      "loss tensor(0.0026, grad_fn=<MeanBackward0>)\n",
      "loss tensor(0.0089, grad_fn=<MeanBackward0>)\n",
      "loss tensor(0.0026, grad_fn=<MeanBackward0>)\n",
      "loss tensor(0.0089, grad_fn=<MeanBackward0>)\n",
      "loss tensor(0.0026, grad_fn=<MeanBackward0>)\n",
      "loss tensor(0.0089, grad_fn=<MeanBackward0>)\n",
      "loss tensor(0.0026, grad_fn=<MeanBackward0>)\n",
      "loss tensor(0.0089, grad_fn=<MeanBackward0>)\n",
      "loss tensor(0.0026, grad_fn=<MeanBackward0>)\n",
      "loss tensor(0.0089, grad_fn=<MeanBackward0>)\n",
      "epoch: 310| loss: 0.00893248151987791| test_loss:0.005023092031478882\n",
      "OrderedDict([('weights', tensor([0.6951])), ('bias', tensor([0.2993]))])\n",
      "loss tensor(0.0026, grad_fn=<MeanBackward0>)\n",
      "loss tensor(0.0089, grad_fn=<MeanBackward0>)\n",
      "loss tensor(0.0026, grad_fn=<MeanBackward0>)\n",
      "loss tensor(0.0089, grad_fn=<MeanBackward0>)\n",
      "loss tensor(0.0026, grad_fn=<MeanBackward0>)\n",
      "loss tensor(0.0089, grad_fn=<MeanBackward0>)\n",
      "loss tensor(0.0026, grad_fn=<MeanBackward0>)\n",
      "loss tensor(0.0089, grad_fn=<MeanBackward0>)\n",
      "loss tensor(0.0026, grad_fn=<MeanBackward0>)\n",
      "loss tensor(0.0089, grad_fn=<MeanBackward0>)\n",
      "epoch: 320| loss: 0.00893248151987791| test_loss:0.005023092031478882\n",
      "OrderedDict([('weights', tensor([0.6951])), ('bias', tensor([0.2993]))])\n",
      "loss tensor(0.0026, grad_fn=<MeanBackward0>)\n",
      "loss tensor(0.0089, grad_fn=<MeanBackward0>)\n",
      "loss tensor(0.0026, grad_fn=<MeanBackward0>)\n",
      "loss tensor(0.0089, grad_fn=<MeanBackward0>)\n",
      "loss tensor(0.0026, grad_fn=<MeanBackward0>)\n",
      "loss tensor(0.0089, grad_fn=<MeanBackward0>)\n",
      "loss tensor(0.0026, grad_fn=<MeanBackward0>)\n",
      "loss tensor(0.0089, grad_fn=<MeanBackward0>)\n",
      "loss tensor(0.0026, grad_fn=<MeanBackward0>)\n",
      "loss tensor(0.0089, grad_fn=<MeanBackward0>)\n",
      "epoch: 330| loss: 0.00893248151987791| test_loss:0.005023092031478882\n",
      "OrderedDict([('weights', tensor([0.6951])), ('bias', tensor([0.2993]))])\n",
      "loss tensor(0.0026, grad_fn=<MeanBackward0>)\n",
      "loss tensor(0.0089, grad_fn=<MeanBackward0>)\n",
      "loss tensor(0.0026, grad_fn=<MeanBackward0>)\n",
      "loss tensor(0.0089, grad_fn=<MeanBackward0>)\n",
      "loss tensor(0.0026, grad_fn=<MeanBackward0>)\n",
      "loss tensor(0.0089, grad_fn=<MeanBackward0>)\n",
      "loss tensor(0.0026, grad_fn=<MeanBackward0>)\n",
      "loss tensor(0.0089, grad_fn=<MeanBackward0>)\n",
      "loss tensor(0.0026, grad_fn=<MeanBackward0>)\n",
      "loss tensor(0.0089, grad_fn=<MeanBackward0>)\n",
      "epoch: 340| loss: 0.00893248151987791| test_loss:0.005023092031478882\n",
      "OrderedDict([('weights', tensor([0.6951])), ('bias', tensor([0.2993]))])\n",
      "loss tensor(0.0026, grad_fn=<MeanBackward0>)\n",
      "loss tensor(0.0089, grad_fn=<MeanBackward0>)\n",
      "loss tensor(0.0026, grad_fn=<MeanBackward0>)\n",
      "loss tensor(0.0089, grad_fn=<MeanBackward0>)\n",
      "loss tensor(0.0026, grad_fn=<MeanBackward0>)\n",
      "loss tensor(0.0089, grad_fn=<MeanBackward0>)\n",
      "loss tensor(0.0026, grad_fn=<MeanBackward0>)\n",
      "loss tensor(0.0089, grad_fn=<MeanBackward0>)\n",
      "loss tensor(0.0026, grad_fn=<MeanBackward0>)\n",
      "loss tensor(0.0089, grad_fn=<MeanBackward0>)\n",
      "epoch: 350| loss: 0.00893248151987791| test_loss:0.005023092031478882\n",
      "OrderedDict([('weights', tensor([0.6951])), ('bias', tensor([0.2993]))])\n",
      "loss tensor(0.0026, grad_fn=<MeanBackward0>)\n",
      "loss tensor(0.0089, grad_fn=<MeanBackward0>)\n",
      "loss tensor(0.0026, grad_fn=<MeanBackward0>)\n",
      "loss tensor(0.0089, grad_fn=<MeanBackward0>)\n",
      "loss tensor(0.0026, grad_fn=<MeanBackward0>)\n",
      "loss tensor(0.0089, grad_fn=<MeanBackward0>)\n",
      "loss tensor(0.0026, grad_fn=<MeanBackward0>)\n",
      "loss tensor(0.0089, grad_fn=<MeanBackward0>)\n",
      "loss tensor(0.0026, grad_fn=<MeanBackward0>)\n",
      "loss tensor(0.0089, grad_fn=<MeanBackward0>)\n",
      "epoch: 360| loss: 0.00893248151987791| test_loss:0.005023092031478882\n",
      "OrderedDict([('weights', tensor([0.6951])), ('bias', tensor([0.2993]))])\n",
      "loss tensor(0.0026, grad_fn=<MeanBackward0>)\n",
      "loss tensor(0.0089, grad_fn=<MeanBackward0>)\n",
      "loss tensor(0.0026, grad_fn=<MeanBackward0>)\n",
      "loss tensor(0.0089, grad_fn=<MeanBackward0>)\n",
      "loss tensor(0.0026, grad_fn=<MeanBackward0>)\n",
      "loss tensor(0.0089, grad_fn=<MeanBackward0>)\n",
      "loss tensor(0.0026, grad_fn=<MeanBackward0>)\n",
      "loss tensor(0.0089, grad_fn=<MeanBackward0>)\n",
      "loss tensor(0.0026, grad_fn=<MeanBackward0>)\n",
      "loss tensor(0.0089, grad_fn=<MeanBackward0>)\n",
      "epoch: 370| loss: 0.00893248151987791| test_loss:0.005023092031478882\n",
      "OrderedDict([('weights', tensor([0.6951])), ('bias', tensor([0.2993]))])\n",
      "loss tensor(0.0026, grad_fn=<MeanBackward0>)\n",
      "loss tensor(0.0089, grad_fn=<MeanBackward0>)\n",
      "loss tensor(0.0026, grad_fn=<MeanBackward0>)\n",
      "loss tensor(0.0089, grad_fn=<MeanBackward0>)\n",
      "loss tensor(0.0026, grad_fn=<MeanBackward0>)\n",
      "loss tensor(0.0089, grad_fn=<MeanBackward0>)\n",
      "loss tensor(0.0026, grad_fn=<MeanBackward0>)\n",
      "loss tensor(0.0089, grad_fn=<MeanBackward0>)\n",
      "loss tensor(0.0026, grad_fn=<MeanBackward0>)\n",
      "loss tensor(0.0089, grad_fn=<MeanBackward0>)\n",
      "epoch: 380| loss: 0.00893248151987791| test_loss:0.005023092031478882\n",
      "OrderedDict([('weights', tensor([0.6951])), ('bias', tensor([0.2993]))])\n",
      "loss tensor(0.0026, grad_fn=<MeanBackward0>)\n",
      "loss tensor(0.0089, grad_fn=<MeanBackward0>)\n",
      "loss tensor(0.0026, grad_fn=<MeanBackward0>)\n",
      "loss tensor(0.0089, grad_fn=<MeanBackward0>)\n",
      "loss tensor(0.0026, grad_fn=<MeanBackward0>)\n",
      "loss tensor(0.0089, grad_fn=<MeanBackward0>)\n",
      "loss tensor(0.0026, grad_fn=<MeanBackward0>)\n",
      "loss tensor(0.0089, grad_fn=<MeanBackward0>)\n",
      "loss tensor(0.0026, grad_fn=<MeanBackward0>)\n",
      "loss tensor(0.0089, grad_fn=<MeanBackward0>)\n",
      "epoch: 390| loss: 0.00893248151987791| test_loss:0.005023092031478882\n",
      "OrderedDict([('weights', tensor([0.6951])), ('bias', tensor([0.2993]))])\n",
      "loss tensor(0.0026, grad_fn=<MeanBackward0>)\n",
      "loss tensor(0.0089, grad_fn=<MeanBackward0>)\n",
      "loss tensor(0.0026, grad_fn=<MeanBackward0>)\n",
      "loss tensor(0.0089, grad_fn=<MeanBackward0>)\n",
      "loss tensor(0.0026, grad_fn=<MeanBackward0>)\n",
      "loss tensor(0.0089, grad_fn=<MeanBackward0>)\n",
      "loss tensor(0.0026, grad_fn=<MeanBackward0>)\n",
      "loss tensor(0.0089, grad_fn=<MeanBackward0>)\n",
      "loss tensor(0.0026, grad_fn=<MeanBackward0>)\n"
     ]
    }
   ],
   "source": [
    "# an epoch is one loop through the data...\n",
    "epochs = 400\n",
    "\n",
    "torch.manual_seed(42)\n",
    "\n",
    "epoch_count = []\n",
    "loss_values = []\n",
    "test_loss_values = []\n",
    "\n",
    "# loop through data\n",
    "for epoch in range(epochs):\n",
    "    #Set the model to training mode\n",
    "    model_0.train() #train mode in pytorch sets all parameters that req grad to req grad \n",
    "    \n",
    "    # 1. foward pass\n",
    "    y_pred = model_0(X_train)\n",
    "    \n",
    "    # 2. Calc loss (MAE)\n",
    "    loss = loss_fn(y_pred, y_train)\n",
    "    print(\"loss\", loss)\n",
    "    \n",
    "    #optimizer zero grad (this resets the optimizer)\n",
    "    optimizer.zero_grad()\n",
    "    \n",
    "    #perform back prop\n",
    "    loss.backward()\n",
    "    \n",
    "    # Step the optim\n",
    "    optimizer.step()\n",
    "    \n",
    "    model_0.eval() #turns of grad tracking\n",
    "    with torch.inference_mode(): #turns off things befoind the scenes\n",
    "        test_pred = model_0(X_test)\n",
    "        \n",
    "        #calc loss\n",
    "        test_loss = loss_fn(test_pred, y_test)\n",
    "    if (epoch % 10 == 0):\n",
    "        epoch_count.append(epoch)\n",
    "        loss_values.append(loss)\n",
    "        test_loss_values.append(test_loss)\n",
    "        print(f'epoch: {epoch}| loss: {loss}| test_loss:{test_loss}')\n",
    "        print(model_0.state_dict())\n",
    "    \n",
    "    "
   ]
  },
  {
   "cell_type": "code",
   "execution_count": 259,
   "metadata": {},
   "outputs": [
    {
     "data": {
      "image/png": "[encoded data removed]",
      "text/plain": [
       "<Figure size 1000x700 with 1 Axes>"
      ]
     },
     "metadata": {},
     "output_type": "display_data"
    }
   ],
   "source": [
    "with torch.inference_mode():\n",
    "    new_y_pred = model_0(X_test)\n",
    "\n",
    "plot_pred(predictions=new_y_pred)"
   ]
  },
  {
   "cell_type": "code",
   "execution_count": 260,
   "metadata": {},
   "outputs": [
    {
     "data": {
      "image/png": "[encoded data removed]",
      "text/plain": [
       "<Figure size 640x480 with 1 Axes>"
      ]
     },
     "metadata": {},
     "output_type": "display_data"
    }
   ],
   "source": [
    "with torch.inference_mode():\n",
    "    fig, ax = plt.subplots()\n",
    "    ax.plot(epoch_count, loss_values, c='b', label=\"train loss\")\n",
    "    ax.plot(epoch_count, test_loss_values, c=\"g\", label=\"test loss\")\n",
    "    ax.set_title('loss over time')\n",
    "    ax.set_xlabel('epoch')\n",
    "    ax.set_ylabel('loss')\n",
    "    ax.legend()\n",
    "    plt.show()"
   ]
  },
  {
   "cell_type": "code",
   "execution_count": 261,
   "metadata": {},
   "outputs": [
    {
     "name": "stdout",
     "output_type": "stream",
     "text": [
      "epoch 399, loss [tensor(0.3129, grad_fn=<MeanBackward0>), tensor(0.1977, grad_fn=<MeanBackward0>), tensor(0.0891, grad_fn=<MeanBackward0>), tensor(0.0531, grad_fn=<MeanBackward0>), tensor(0.0454, grad_fn=<MeanBackward0>), tensor(0.0417, grad_fn=<MeanBackward0>), tensor(0.0382, grad_fn=<MeanBackward0>), tensor(0.0348, grad_fn=<MeanBackward0>), tensor(0.0313, grad_fn=<MeanBackward0>), tensor(0.0279, grad_fn=<MeanBackward0>), tensor(0.0245, grad_fn=<MeanBackward0>), tensor(0.0210, grad_fn=<MeanBackward0>), tensor(0.0176, grad_fn=<MeanBackward0>), tensor(0.0142, grad_fn=<MeanBackward0>), tensor(0.0107, grad_fn=<MeanBackward0>), tensor(0.0073, grad_fn=<MeanBackward0>), tensor(0.0039, grad_fn=<MeanBackward0>), tensor(0.0089, grad_fn=<MeanBackward0>), tensor(0.0089, grad_fn=<MeanBackward0>), tensor(0.0089, grad_fn=<MeanBackward0>), tensor(0.0089, grad_fn=<MeanBackward0>), tensor(0.0089, grad_fn=<MeanBackward0>), tensor(0.0089, grad_fn=<MeanBackward0>), tensor(0.0089, grad_fn=<MeanBackward0>), tensor(0.0089, grad_fn=<MeanBackward0>), tensor(0.0089, grad_fn=<MeanBackward0>), tensor(0.0089, grad_fn=<MeanBackward0>), tensor(0.0089, grad_fn=<MeanBackward0>), tensor(0.0089, grad_fn=<MeanBackward0>), tensor(0.0089, grad_fn=<MeanBackward0>), tensor(0.0089, grad_fn=<MeanBackward0>), tensor(0.0089, grad_fn=<MeanBackward0>), tensor(0.0089, grad_fn=<MeanBackward0>), tensor(0.0089, grad_fn=<MeanBackward0>), tensor(0.0089, grad_fn=<MeanBackward0>), tensor(0.0089, grad_fn=<MeanBackward0>), tensor(0.0089, grad_fn=<MeanBackward0>), tensor(0.0089, grad_fn=<MeanBackward0>), tensor(0.0089, grad_fn=<MeanBackward0>), tensor(0.0089, grad_fn=<MeanBackward0>)], test_loss[tensor(0.4811), tensor(0.3464), tensor(0.2173), tensor(0.1446), tensor(0.1136), tensor(0.0992), tensor(0.0889), tensor(0.0806), tensor(0.0723), tensor(0.0647), tensor(0.0565), tensor(0.0482), tensor(0.0406), tensor(0.0323), tensor(0.0241), tensor(0.0165), tensor(0.0082), tensor(0.0050), tensor(0.0050), tensor(0.0050), tensor(0.0050), tensor(0.0050), tensor(0.0050), tensor(0.0050), tensor(0.0050), tensor(0.0050), tensor(0.0050), tensor(0.0050), tensor(0.0050), tensor(0.0050), tensor(0.0050), tensor(0.0050), tensor(0.0050), tensor(0.0050), tensor(0.0050), tensor(0.0050), tensor(0.0050), tensor(0.0050), tensor(0.0050), tensor(0.0050)]\n"
     ]
    }
   ],
   "source": [
    "print(f'epoch {epoch}, loss {loss_values}, test_loss{test_loss_values}')"
   ]
  },
  {
   "cell_type": "code",
   "execution_count": 262,
   "metadata": {},
   "outputs": [
    {
     "data": {
      "text/plain": [
       "OrderedDict([('weights', tensor([0.6990])), ('bias', tensor([0.3093]))])"
      ]
     },
     "execution_count": 262,
     "metadata": {},
     "output_type": "execute_result"
    }
   ],
   "source": [
    "model_0.state_dict()"
   ]
  },
  {
   "cell_type": "markdown",
   "metadata": {},
   "source": [
    "## saving model in pytorch\n",
    "\n",
    "1. torch.save() - save model\n",
    "2. torch.load() - allows you to load\n",
    "3. torch.nn.module.load_stat_dict() - allows you to load a dictionary"
   ]
  },
  {
   "cell_type": "code",
   "execution_count": 263,
   "metadata": {},
   "outputs": [],
   "source": [
    "# save and load state dic \n",
    "from pathlib import Path\n",
    "\n",
    "# 1 create dir\n",
    "MODEL_PATH = Path('../models')\n",
    "MODEL_PATH.mkdir(parents=True, exist_ok=True)\n",
    "\n",
    "# Create Model Path\n",
    "MODEL_NAME = \"00_pytorch_workflow_model_0.pth\"\n",
    "MODEL_SAVE_PATH = MODEL_PATH / MODEL_NAME\n",
    "\n",
    "# 3. Save the model Stat dict\n",
    "\n",
    "torch.save(model_0.state_dict(), MODEL_SAVE_PATH)"
   ]
  },
  {
   "cell_type": "code",
   "execution_count": 264,
   "metadata": {},
   "outputs": [
    {
     "data": {
      "text/plain": [
       "OrderedDict([('weights', tensor([0.6990])), ('bias', tensor([0.3093]))])"
      ]
     },
     "execution_count": 264,
     "metadata": {},
     "output_type": "execute_result"
    }
   ],
   "source": [
    "dict_state = torch.load(MODEL_SAVE_PATH)\n",
    "dict_state"
   ]
  },
  {
   "cell_type": "code",
   "execution_count": 265,
   "metadata": {},
   "outputs": [],
   "source": [
    "loaded_model_0 = LinearRegressionModel()"
   ]
  },
  {
   "cell_type": "code",
   "execution_count": 266,
   "metadata": {},
   "outputs": [
    {
     "data": {
      "text/plain": [
       "<All keys matched successfully>"
      ]
     },
     "execution_count": 266,
     "metadata": {},
     "output_type": "execute_result"
    }
   ],
   "source": [
    "loaded_model_0.load_state_dict(dict_state)"
   ]
  },
  {
   "cell_type": "code",
   "execution_count": 267,
   "metadata": {},
   "outputs": [
    {
     "data": {
      "text/plain": [
       "tensor([[True],\n",
       "        [True],\n",
       "        [True],\n",
       "        [True],\n",
       "        [True],\n",
       "        [True],\n",
       "        [True],\n",
       "        [True],\n",
       "        [True],\n",
       "        [True]])"
      ]
     },
     "execution_count": 267,
     "metadata": {},
     "output_type": "execute_result"
    }
   ],
   "source": [
    "loaded_model_0.eval()\n",
    "with torch.inference_mode():\n",
    "    y_pred_load = loaded_model_0(X_test)\n",
    "\n",
    "with torch.inference_mode():\n",
    "    y_pred_model = model_0(X_test)\n",
    "    \n",
    "y_pred_load == y_pred_model"
   ]
  },
  {
   "cell_type": "code",
   "execution_count": null,
   "metadata": {},
   "outputs": [],
   "source": []
  },
  {
   "cell_type": "markdown",
   "metadata": {},
   "source": [
    "## putting it all together\n",
    "lets go back through the steps "
   ]
  },
  {
   "cell_type": "code",
   "execution_count": 325,
   "metadata": {},
   "outputs": [],
   "source": [
    "import torch \n",
    "\n",
    "#1 create data\n",
    "\n",
    "weight = .5\n",
    "bias = .7\n",
    "\n",
    "X = torch.arange(0, 1, .02).unsqueeze(dim=1)\n",
    "X\n",
    "y = weight * X + bias\n",
    "split_len = int(.8 * len(X))\n",
    "X_train, y_train = X[:split_len], y[:split_len]\n",
    "X_test, y_test = X[split_len:], y[split_len:]"
   ]
  },
  {
   "cell_type": "code",
   "execution_count": 326,
   "metadata": {},
   "outputs": [],
   "source": [
    "import matplotlib.pyplot as plt\n",
    "\n",
    "def visPLot(X_te=X_test, y_te=y_test, X_tr=X_train, y_tr=y_train, pred=None):\n",
    "    fig, ax = plt.subplots()\n",
    "    ax.scatter(X_te, y_te, c='r', s=5, label=\"test_data\")\n",
    "    ax.scatter(X_tr, y_tr, c=\"g\",s=5, label=\"train_data\")\n",
    "    ax.set_title('data and predictions')\n",
    "    ax.set_ylabel(\"target\")\n",
    "    ax.set_xlabel(\"input\")\n",
    "    if (pred is not None):\n",
    "        print(X_te.shape)\n",
    "        print(pred.shape)\n",
    "        ax.scatter(X_te, pred, c='b', s=5 ,label='pred')"
   ]
  },
  {
   "cell_type": "code",
   "execution_count": 327,
   "metadata": {},
   "outputs": [
    {
     "data": {
      "image/png": "[encoded data removed]",
      "text/plain": [
       "<Figure size 640x480 with 1 Axes>"
      ]
     },
     "metadata": {},
     "output_type": "display_data"
    }
   ],
   "source": [
    "visPLot()"
   ]
  },
  {
   "cell_type": "code",
   "execution_count": 328,
   "metadata": {},
   "outputs": [],
   "source": [
    "import torch.nn as nn\n",
    "\n",
    "device = \"gpu\" if torch.cuda.is_available() else \"cpu\""
   ]
  },
  {
   "cell_type": "code",
   "execution_count": 329,
   "metadata": {},
   "outputs": [],
   "source": [
    "class linearRegresModel(nn.Module):\n",
    "    def __init__(self):\n",
    "        super().__init__()\n",
    "\n",
    "        self.lin_layer = nn.Linear(in_features=1, out_features=1)\n",
    "        \n",
    "    def forward(self, x:torch.Tensor) -> torch.Tensor:\n",
    "        return self.lin_layer(x)"
   ]
  },
  {
   "cell_type": "code",
   "execution_count": 330,
   "metadata": {},
   "outputs": [
    {
     "data": {
      "text/plain": [
       "OrderedDict([('lin_layer.weight', tensor([[0.7645]])),\n",
       "             ('lin_layer.bias', tensor([0.8300]))])"
      ]
     },
     "execution_count": 330,
     "metadata": {},
     "output_type": "execute_result"
    }
   ],
   "source": [
    "model_01 = linearRegresModel()\n",
    "model_01.state_dict()"
   ]
  },
  {
   "cell_type": "code",
   "execution_count": 332,
   "metadata": {},
   "outputs": [
    {
     "name": "stdout",
     "output_type": "stream",
     "text": [
      "torch.Size([10, 1])\n",
      "torch.Size([10, 1])\n"
     ]
    },
    {
     "data": {
      "image/png": "[encoded data removed]",
      "text/plain": [
       "<Figure size 640x480 with 1 Axes>"
      ]
     },
     "metadata": {},
     "output_type": "display_data"
    }
   ],
   "source": [
    "start_pred = model_01(y_test)\n",
    "\n",
    "with torch.inference_mode():\n",
    "    visPLot(pred=start_pred)"
   ]
  },
  {
   "cell_type": "code",
   "execution_count": 333,
   "metadata": {},
   "outputs": [],
   "source": [
    "#define optim and loss\n",
    "import torch\n",
    "optim = torch.optim.SGD(model_01.parameters(), lr=0.01)\n",
    "loss_fun0 = nn.L1Loss()\n"
   ]
  },
  {
   "cell_type": "code",
   "execution_count": 334,
   "metadata": {},
   "outputs": [
    {
     "name": "stdout",
     "output_type": "stream",
     "text": [
      "epoch 0, loss 0.23317794501781464, train loss 0.35197630524635315\n",
      "epoch 10, loss 0.11796806752681732, train loss 0.21726639568805695\n",
      "epoch 20, loss 0.042317621409893036, train loss 0.11436162889003754\n",
      "epoch 30, loss 0.03256775066256523, train loss 0.08015453815460205\n",
      "epoch 40, loss 0.02893758751451969, train loss 0.06777876615524292\n",
      "epoch 50, loss 0.025485973805189133, train loss 0.05881955474615097\n",
      "epoch 60, loss 0.02204715646803379, train loss 0.05054720491170883\n",
      "epoch 70, loss 0.018614396452903748, train loss 0.04296167939901352\n",
      "epoch 80, loss 0.01518232375383377, train loss 0.034689318388700485\n",
      "epoch 90, loss 0.011743506416678429, train loss 0.026416946202516556\n",
      "epoch 100, loss 0.008312409743666649, train loss 0.018831443041563034\n",
      "epoch 110, loss 0.004878680221736431, train loss 0.01055908203125\n",
      "epoch 120, loss 0.001500298036262393, train loss 0.00513224583119154\n",
      "epoch 130, loss 0.007524597458541393, train loss 0.007185566239058971\n",
      "epoch 140, loss 0.007524597458541393, train loss 0.007185566239058971\n",
      "epoch 150, loss 0.007524597458541393, train loss 0.007185566239058971\n",
      "epoch 160, loss 0.007524597458541393, train loss 0.007185566239058971\n",
      "epoch 170, loss 0.007524597458541393, train loss 0.007185566239058971\n",
      "epoch 180, loss 0.007524597458541393, train loss 0.007185566239058971\n",
      "epoch 190, loss 0.007524597458541393, train loss 0.007185566239058971\n",
      "epoch 200, loss 0.007524597458541393, train loss 0.007185566239058971\n",
      "epoch 210, loss 0.007524597458541393, train loss 0.007185566239058971\n",
      "epoch 220, loss 0.007524597458541393, train loss 0.007185566239058971\n",
      "epoch 230, loss 0.007524597458541393, train loss 0.007185566239058971\n",
      "epoch 240, loss 0.007524597458541393, train loss 0.007185566239058971\n",
      "epoch 250, loss 0.007524597458541393, train loss 0.007185566239058971\n",
      "epoch 260, loss 0.007524597458541393, train loss 0.007185566239058971\n",
      "epoch 270, loss 0.007524597458541393, train loss 0.007185566239058971\n",
      "epoch 280, loss 0.007524597458541393, train loss 0.007185566239058971\n",
      "epoch 290, loss 0.007524597458541393, train loss 0.007185566239058971\n",
      "epoch 300, loss 0.007524597458541393, train loss 0.007185566239058971\n",
      "epoch 310, loss 0.007524597458541393, train loss 0.007185566239058971\n",
      "epoch 320, loss 0.007524597458541393, train loss 0.007185566239058971\n",
      "epoch 330, loss 0.007524597458541393, train loss 0.007185566239058971\n",
      "epoch 340, loss 0.007524597458541393, train loss 0.007185566239058971\n",
      "epoch 350, loss 0.007524597458541393, train loss 0.007185566239058971\n",
      "epoch 360, loss 0.007524597458541393, train loss 0.007185566239058971\n",
      "epoch 370, loss 0.007524597458541393, train loss 0.007185566239058971\n",
      "epoch 380, loss 0.007524597458541393, train loss 0.007185566239058971\n",
      "epoch 390, loss 0.007524597458541393, train loss 0.007185566239058971\n",
      "epoch 400, loss 0.007524597458541393, train loss 0.007185566239058971\n",
      "epoch 410, loss 0.007524597458541393, train loss 0.007185566239058971\n",
      "epoch 420, loss 0.007524597458541393, train loss 0.007185566239058971\n",
      "epoch 430, loss 0.007524597458541393, train loss 0.007185566239058971\n",
      "epoch 440, loss 0.007524597458541393, train loss 0.007185566239058971\n",
      "epoch 450, loss 0.007524597458541393, train loss 0.007185566239058971\n",
      "epoch 460, loss 0.007524597458541393, train loss 0.007185566239058971\n",
      "epoch 470, loss 0.007524597458541393, train loss 0.007185566239058971\n",
      "epoch 480, loss 0.007524597458541393, train loss 0.007185566239058971\n",
      "epoch 490, loss 0.007524597458541393, train loss 0.007185566239058971\n",
      "epoch 500, loss 0.007524597458541393, train loss 0.007185566239058971\n",
      "epoch 510, loss 0.007524597458541393, train loss 0.007185566239058971\n",
      "epoch 520, loss 0.007524597458541393, train loss 0.007185566239058971\n",
      "epoch 530, loss 0.007524597458541393, train loss 0.007185566239058971\n",
      "epoch 540, loss 0.007524597458541393, train loss 0.007185566239058971\n",
      "epoch 550, loss 0.007524597458541393, train loss 0.007185566239058971\n",
      "epoch 560, loss 0.007524597458541393, train loss 0.007185566239058971\n",
      "epoch 570, loss 0.007524597458541393, train loss 0.007185566239058971\n",
      "epoch 580, loss 0.007524597458541393, train loss 0.007185566239058971\n",
      "epoch 590, loss 0.007524597458541393, train loss 0.007185566239058971\n"
     ]
    }
   ],
   "source": [
    "epochs=600\n",
    "\n",
    "torch.manual_seed(42)\n",
    "\n",
    "epoch_list = []\n",
    "mod0_train_loss = []\n",
    "mod0_test_loss = []\n",
    "\n",
    "for epoch in range(epochs):\n",
    "    #forward pass\n",
    "    model_01.train()\n",
    "    \n",
    "    y_pred = model_01(X_train)\n",
    "    \n",
    "    #eval loss\n",
    "    loss0 = loss_fun0(y_pred, y_train)\n",
    "    \n",
    "    #zero grad\n",
    "    optim.zero_grad()\n",
    "    \n",
    "    #back prop\n",
    "    loss0.backward()\n",
    "    \n",
    "    optim.step()\n",
    "    \n",
    "    model_01.eval()\n",
    "    \n",
    "    if epoch % 10 == 0:\n",
    "        with torch.inference_mode():\n",
    "            y_test_pred = model_01(X_test)\n",
    "            loss_pred = loss_fun0(y_test_pred, y_test)\n",
    "            epoch_list.append(epoch)\n",
    "            mod0_train_loss.append(loss0)\n",
    "            mod0_test_loss.append(loss_pred) \n",
    "            print(f'epoch {epoch}, loss {loss0}, train loss {loss_pred}')"
   ]
  },
  {
   "cell_type": "code",
   "execution_count": 335,
   "metadata": {},
   "outputs": [
    {
     "data": {
      "text/plain": [
       "<function matplotlib.pyplot.show(close=None, block=None)>"
      ]
     },
     "execution_count": 335,
     "metadata": {},
     "output_type": "execute_result"
    },
    {
     "data": {
      "image/png": "[encoded data removed]",
      "text/plain": [
       "<Figure size 640x480 with 1 Axes>"
      ]
     },
     "metadata": {},
     "output_type": "display_data"
    }
   ],
   "source": [
    "fig, ax = plt.subplots()\n",
    "with torch.inference_mode():\n",
    "    ax.plot(epoch_list, mod0_train_loss, c='r', label=\"train_loss\")\n",
    "    ax.plot(epoch_list, mod0_test_loss, c='b', label=\"test_loss\")\n",
    "    ax.set_xlabel('epoch')\n",
    "    ax.set_ylabel('loss')\n",
    "    ax.set_title('loss over epoch')\n",
    "    ax.legend()\n",
    "plt.show"
   ]
  },
  {
   "cell_type": "code",
   "execution_count": 336,
   "metadata": {},
   "outputs": [
    {
     "name": "stdout",
     "output_type": "stream",
     "text": [
      "torch.Size([10, 1])\n",
      "torch.Size([10, 1])\n"
     ]
    },
    {
     "data": {
      "image/png": "[encoded data removed]",
      "text/plain": [
       "<Figure size 640x480 with 1 Axes>"
      ]
     },
     "metadata": {},
     "output_type": "display_data"
    }
   ],
   "source": [
    "start_pred = model_01(y_test)\n",
    "\n",
    "with torch.inference_mode():\n",
    "    visPLot(pred=start_pred)"
   ]
  },
  {
   "cell_type": "code",
   "execution_count": 343,
   "metadata": {},
   "outputs": [],
   "source": [
    "from pathlib import Path\n",
    "\n",
    "MODEL_PATH = Path('../models')\n",
    "MODEL_PATH.mkdir(parents=True, exist_ok=True)\n",
    "\n",
    "MODEL_NAME =  \"01_pytorch_impletation_model.pth\"\n",
    "FULL_PATH = MODEL_PATH / MODEL_NAME\n",
    "torch.save(model_01, FULL_PATH)"
   ]
  },
  {
   "cell_type": "code",
   "execution_count": 346,
   "metadata": {},
   "outputs": [
    {
     "data": {
      "text/plain": [
       "OrderedDict([('lin_layer.weight', tensor([[0.5025]])),\n",
       "             ('lin_layer.bias', tensor([0.6915]))])"
      ]
     },
     "execution_count": 346,
     "metadata": {},
     "output_type": "execute_result"
    }
   ],
   "source": [
    "load_in_model = linearRegresModel()\n",
    "\n",
    "load_dict = torch.load(FULL_PATH)\n",
    "load_dict.state_dict()"
   ]
  },
  {
   "cell_type": "code",
   "execution_count": 347,
   "metadata": {},
   "outputs": [
    {
     "data": {
      "text/plain": [
       "<All keys matched successfully>"
      ]
     },
     "execution_count": 347,
     "metadata": {},
     "output_type": "execute_result"
    }
   ],
   "source": [
    "load_in_model.load_state_dict(load_dict.state_dict())"
   ]
  },
  {
   "cell_type": "code",
   "execution_count": 350,
   "metadata": {},
   "outputs": [
    {
     "name": "stdout",
     "output_type": "stream",
     "text": [
      "torch.Size([10, 1])\n",
      "torch.Size([10, 1])\n"
     ]
    },
    {
     "data": {
      "image/png": "[encoded data removed]",
      "text/plain": [
       "<Figure size 640x480 with 1 Axes>"
      ]
     },
     "metadata": {},
     "output_type": "display_data"
    }
   ],
   "source": [
    "with torch.inference_mode():\n",
    "    load_pred = load_in_model(X_test)\n",
    "\n",
    "visPLot(pred=load_pred)"
   ]
  }
 ],
 "metadata": {
  "kernelspec": {
   "display_name": "Python 3",
   "language": "python",
   "name": "python3"
  },
  "language_info": {
   "codemirror_mode": {
    "name": "ipython",
    "version": 3
   },
   "file_extension": ".py",
   "mimetype": "text/x-python",
   "name": "python",
   "nbconvert_exporter": "python",
   "pygments_lexer": "ipython3",
   "version": "3.11.4"
  }
 },
 "nbformat": 4,
 "nbformat_minor": 2
}
