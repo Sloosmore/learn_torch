{
 "cells": [
  {
   "cell_type": "code",
   "execution_count": null,
   "metadata": {},
   "outputs": [],
   "source": []
  },
  {
   "cell_type": "markdown",
   "metadata": {},
   "source": [
    "1. What are 3 areas in industry where computer vision is currently being used?\n",
    "\n",
    "2. Search \"what is overfitting in machine learning\" and write down a sentence about what you find.\n",
    "\n",
    "3. Search \"ways to prevent overfitting in machine learning\", write down 3 of the things you find and a sentence about each. **Note:** there are lots of these, so don't worry too much about all of them, just pick 3 and start with those.\n",
    "\n",
    "4. Spend 20-minutes reading and clicking through the CNN Explainer website.\n",
    "   * Upload your own example image using the \"upload\" button and see what happens in each layer of a CNN as your image passes through it.\n",
    "\n",
    "5. Load the `torchvision.datasets.MNIST()` train and test datasets.\n",
    "\n",
    "6. Visualize at least 5 different samples of the MNIST training dataset.\n",
    "\n",
    "7. Turn the MNIST train and test datasets into dataloaders using `torch.utils.data.DataLoader`, set the `batch_size=32`.\n",
    "\n",
    "8. Recreate `model_2` used in this notebook (the same model from the CNN Explainer website, also known as TinyVGG) capable of fitting on the MNIST dataset.\n",
    "\n",
    "9. Train the model you built in exercise 8. on CPU and GPU and see how long it takes on each.\n",
    "\n",
    "10. Make predictions using your trained model and visualize at least 5 of them comparing the prediciton to the target label.\n",
    "\n",
    "11. Plot a confusion matrix comparing your model's predictions to the truth labels.\n",
    "\n",
    "12. Create a random tensor of shape `[1, 3, 64, 64]` and pass it through a `nn.Conv2d()` layer with various hyperparameter settings (these can be any settings you choose), what do you notice if the `kernel_size` parameter goes up and down?\n",
    "\n",
    "13. Use a model similar to the trained `model_2` from this notebook to make predictions on the test `torchvision.datasets.FashionMNIST` dataset.\n",
    "    * Then plot some predictions where the model was wrong alongside what the label of the image should've been.\n",
    "    * After visualing these predictions do you think it's more of a modelling error or a data error?\n",
    "    * As in, could the model do better or are the labels of the data too close to each other (e.g. a \"Shirt\" label is too close to \"T-shirt/top\")?"
   ]
  },
  {
   "cell_type": "markdown",
   "metadata": {},
   "source": [
    "1. Defect detections\n",
    "2. self driving cars\n",
    "3. other stuff"
   ]
  },
  {
   "cell_type": "markdown",
   "metadata": {},
   "source": [
    "2. when the model becomes to narrow and is past the point of genralization"
   ]
  },
  {
   "cell_type": "markdown",
   "metadata": {},
   "source": []
  },
  {
   "cell_type": "code",
   "execution_count": 1,
   "metadata": {},
   "outputs": [],
   "source": [
    "import torch, torchvision"
   ]
  },
  {
   "cell_type": "code",
   "execution_count": 2,
   "metadata": {},
   "outputs": [],
   "source": [
    "train_data = torchvision.datasets.MNIST(root='exercise',\n",
    "                                        train=True,\n",
    "                                        transform=torchvision.transforms.ToTensor(),\n",
    "                                        download=True)\n",
    "\n",
    "test_data = torchvision.datasets.MNIST(root='exercise',\n",
    "                                        train=False,\n",
    "                                        transform=torchvision.transforms.ToTensor(),\n",
    "                                        download=True)"
   ]
  },
  {
   "cell_type": "code",
   "execution_count": 3,
   "metadata": {},
   "outputs": [],
   "source": [
    "import numpy as np\n",
    "import matplotlib.pyplot as plt"
   ]
  },
  {
   "cell_type": "code",
   "execution_count": 4,
   "metadata": {},
   "outputs": [
    {
     "data": {
      "text/plain": [
       "10"
      ]
     },
     "execution_count": 4,
     "metadata": {},
     "output_type": "execute_result"
    }
   ],
   "source": [
    "class_dict_rev = train_data.class_to_idx\n",
    "class_dict = reversed_dict = {v: k for k, v in class_dict_rev.items()}\n",
    "len(class_dict)"
   ]
  },
  {
   "cell_type": "code",
   "execution_count": 5,
   "metadata": {},
   "outputs": [
    {
     "data": {
      "image/png": "[encoded data removed]",
      "text/plain": [
       "<Figure size 640x480 with 5 Axes>"
      ]
     },
     "metadata": {},
     "output_type": "display_data"
    }
   ],
   "source": [
    "fig, ax  = plt.subplots(1,5)\n",
    "\n",
    "for i in range(5):\n",
    "    np.random.seed(i)\n",
    "    rand_ints = (np.random.randint(1,len(train_data)))\n",
    "    X, y = train_data[rand_ints]\n",
    "    ax[i].imshow(X.squeeze(), cmap='gray')\n",
    "    ax[i].set_xticks([])\n",
    "    ax[i].set_yticks([])\n",
    "    ax[i].set_title(class_dict[y])\n",
    "    \n",
    "\n"
   ]
  },
  {
   "cell_type": "code",
   "execution_count": 6,
   "metadata": {},
   "outputs": [
    {
     "data": {
      "text/plain": [
       "(<torch.utils.data.dataloader.DataLoader at 0x147d50690>,\n",
       " <torch.utils.data.dataloader.DataLoader at 0x1479d7890>)"
      ]
     },
     "execution_count": 6,
     "metadata": {},
     "output_type": "execute_result"
    }
   ],
   "source": [
    "from torch.utils.data import DataLoader\n",
    "\n",
    "train_load = DataLoader(dataset=train_data, batch_size=32, shuffle=True)\n",
    "test_load = DataLoader(dataset=test_data, batch_size=32, shuffle=True)\n",
    "train_load, test_load"
   ]
  },
  {
   "cell_type": "code",
   "execution_count": 7,
   "metadata": {},
   "outputs": [],
   "source": [
    "from torch import nn \n",
    "\n",
    "class CNN_MNST(nn.Module):\n",
    "    def __init__(self, input_shape:int, hidden_units:int, out_shape:int) -> None:\n",
    "        super().__init__()\n",
    "        \n",
    "        self.block1 = nn.Sequential(\n",
    "            nn.Conv2d(in_channels=input_shape, out_channels=hidden_units, kernel_size=3, padding=1, stride=1),\n",
    "            nn.ReLU(),\n",
    "            nn.Conv2d(in_channels=hidden_units, out_channels=hidden_units, kernel_size=3, padding=1, stride=1),\n",
    "            nn.ReLU(),\n",
    "            nn.MaxPool2d(2)\n",
    "        )\n",
    "        self.block2 = nn.Sequential(\n",
    "            nn.Conv2d(in_channels=hidden_units, out_channels=hidden_units, kernel_size=3, padding=1, stride=1),\n",
    "            nn.ReLU(),\n",
    "            nn.Conv2d(in_channels=hidden_units, out_channels=hidden_units, kernel_size=3, padding=1, stride=1),\n",
    "            nn.ReLU(),\n",
    "            nn.MaxPool2d(2)\n",
    "        )\n",
    "        self.output = nn.Sequential(\n",
    "            nn.Flatten(),\n",
    "            nn.Linear(in_features=hidden_units*49, out_features=out_shape)\n",
    "        )\n",
    "    def forward(self, x:torch.Tensor) -> torch.Tensor:\n",
    "        out1 = self.block1(x)\n",
    "        out2 = self.block2(out1)\n",
    "        return self.output(out2)\n",
    "    "
   ]
  },
  {
   "cell_type": "code",
   "execution_count": 14,
   "metadata": {},
   "outputs": [],
   "source": [
    "# define optim  and loss \n",
    "model_0 = CNN_MNST(input_shape=1, hidden_units=10, out_shape=len(class_dict))\n",
    "loss_fn = torch.nn.CrossEntropyLoss()\n",
    "optim = torch.optim.Adam(params=model_0.parameters(), lr=.01)"
   ]
  },
  {
   "cell_type": "code",
   "execution_count": 18,
   "metadata": {},
   "outputs": [],
   "source": [
    "# build training loop\n",
    "import torch.utils\n",
    "import torch.utils.data\n",
    "\n",
    "\n",
    "def run_train(model:nn.Module, \n",
    "              data_loader:torch.utils.data.DataLoader, \n",
    "              optim: torch.optim, \n",
    "              loss_fn:torch.nn):\n",
    "    \"\"\"Run training loop\n",
    "\n",
    "    Args:\n",
    "        model (nn.Module): _description_\n",
    "        data_loader (torch.utils.data.DataLoader): _description_\n",
    "        optim (torch.optim): _description_\n",
    "        loss_fn (torch.nn): _description_\n",
    "    \"\"\"\n",
    "    model.eval()\n",
    "    tot_loss = 0 \n",
    "    for batch, (X,y) in enumerate(data_loader):\n",
    "        y_pred = model_0(X)\n",
    "        loss = loss_fn(y_pred, y)\n",
    "        optim.zero_grad()\n",
    "        loss.backward()\n",
    "        optim.step()\n",
    "        tot_loss += loss\n",
    "        \n",
    "    tot_loss/=len(data_loader)\n",
    "    \n",
    "    return tot_loss\n"
   ]
  },
  {
   "cell_type": "code",
   "execution_count": 23,
   "metadata": {},
   "outputs": [],
   "source": [
    "from torchmetrics.classification import MulticlassAccuracy\n",
    "\n",
    "ac_fn = MulticlassAccuracy(num_classes=10)\n",
    "\n",
    "def run_test(model:nn.Module, \n",
    "            data_loader:torch.utils.data.DataLoader, \n",
    "            ac_fn: None,\n",
    "            loss_fn:torch.nn):\n",
    "    \n",
    "    tot_loss, tot_acc = 0,0\n",
    "    model.eval()\n",
    "    with torch.inference_mode(): \n",
    "        for X, y in data_loader:\n",
    "            y_pred_test = model(X)\n",
    "            tot_loss += loss_fn(y_pred_test, y)\n",
    "            tot_acc += ac_fn(y_pred_test, y)\n",
    "            \n",
    "        tot_loss /= len(data_loader)\n",
    "        tot_acc /= len(data_loader)\n",
    "    return {'test loss': tot_loss.item(), 'test acc': tot_acc.item()}"
   ]
  },
  {
   "cell_type": "code",
   "execution_count": 24,
   "metadata": {},
   "outputs": [
    {
     "data": {
      "application/vnd.jupyter.widget-view+json": {
       "model_id": "59991200f1cc4233a48a6a6cb3b72e11",
       "version_major": 2,
       "version_minor": 0
      },
      "text/plain": [
       "  0%|          | 0/3 [00:00<?, ?it/s]"
      ]
     },
     "metadata": {},
     "output_type": "display_data"
    },
    {
     "name": "stdout",
     "output_type": "stream",
     "text": [
      "loss 0.08592511713504791 | test loss 0.06952645629644394 | test_acc 0.9752722382545471\n",
      "loss 0.08438040316104889 | test loss 0.07901178300380707 | test_acc 0.9710610508918762\n",
      "loss 0.07987108826637268 | test loss 0.09697795659303665 | test_acc 0.9677037596702576\n"
     ]
    }
   ],
   "source": [
    "from tqdm.auto import tqdm\n",
    "\n",
    "for i in tqdm(range(3)):\n",
    "    loss = run_train(model=model_0, data_loader=train_load, optim=optim, loss_fn=loss_fn)\n",
    "    met_dict = run_test(model=model_0, data_loader=train_load, ac_fn=ac_fn, loss_fn=loss_fn)\n",
    "    test_loss, test_acc = met_dict['test loss'], met_dict['test acc']\n",
    "    print(f'loss {loss} | test loss {test_loss} | test_acc {test_acc}')"
   ]
  },
  {
   "cell_type": "code",
   "execution_count": 89,
   "metadata": {},
   "outputs": [],
   "source": [
    "def make_pred(model:nn.Module, data:None):\n",
    "    model.eval()\n",
    "    with torch.inference_mode():\n",
    "        preds=[]\n",
    "        for i in (data):\n",
    "        \n",
    "            logits = model(i.unsqueeze(dim=0)).squeeze()\n",
    "            probs = torch.softmax(logits, dim=0)\n",
    "            preds.append(torch.argmax(probs).item())\n",
    "        return preds"
   ]
  },
  {
   "cell_type": "code",
   "execution_count": 85,
   "metadata": {},
   "outputs": [
    {
     "name": "stdout",
     "output_type": "stream",
     "text": [
      "torch.Size([1, 28, 28])\n"
     ]
    }
   ],
   "source": [
    "from random import sample, seed\n",
    "\n",
    "seed(42)\n",
    "test_samples = []\n",
    "test_labels = []\n",
    "\n",
    "for sample, label in sample(list(test_data), k=9):\n",
    "    test_samples.append(sample)\n",
    "    test_labels.append(label)\n",
    "print(test_samples[0].shape)"
   ]
  },
  {
   "cell_type": "code",
   "execution_count": 91,
   "metadata": {},
   "outputs": [
    {
     "data": {
      "text/plain": [
       "([2, 1, 2, 4, 6, 6, 4, 9, 1], [2, 1, 2, 4, 6, 6, 4, 9, 1])"
      ]
     },
     "execution_count": 91,
     "metadata": {},
     "output_type": "execute_result"
    }
   ],
   "source": [
    "preds = make_pred(model_0, data=test_samples)\n",
    "preds, test_labels"
   ]
  },
  {
   "cell_type": "code",
   "execution_count": 97,
   "metadata": {},
   "outputs": [
    {
     "data": {
      "image/png": "[encoded data removed]",
      "text/plain": [
       "<Figure size 3000x480 with 9 Axes>"
      ]
     },
     "metadata": {},
     "output_type": "display_data"
    }
   ],
   "source": [
    "import matplotlib.pyplot as plt\n",
    "\n",
    "fig, ax = plt.subplots(1,9)\n",
    "fig.set_figwidth(30)\n",
    "for num, i in enumerate(test_labels):\n",
    "    ax[num].imshow(test_samples[num].squeeze(), cmap='gray')\n",
    "    ax[num].set_title(f'target: {i}, pred {preds[num]}')\n",
    "    ax[num].set_yticks([])\n",
    "    ax[num].set_xticks([])\n",
    "\n",
    "    "
   ]
  },
  {
   "cell_type": "code",
   "execution_count": 99,
   "metadata": {},
   "outputs": [],
   "source": [
    "from torchmetrics import ConfusionMatrix\n",
    "\n",
    "CM = ConfusionMatrix(num_classes=10, task='multiclass')"
   ]
  },
  {
   "cell_type": "code",
   "execution_count": 107,
   "metadata": {},
   "outputs": [],
   "source": [
    "def grab_prebs(model:nn.Module, \n",
    "            data_loader:torch.utils.data.DataLoader, \n",
    "            ):\n",
    "    preds = []\n",
    "    tar_preds =[]\n",
    "    model.eval()\n",
    "    with torch.inference_mode(): \n",
    "        for X, y in data_loader:\n",
    "            logits = model(X)\n",
    "            probs = torch.softmax(logits, dim=1)\n",
    "            preds.append(torch.argmax(probs, dim=1))\n",
    "            tar_preds.append(y)\n",
    "    return torch.cat(preds), torch.cat(tar_preds)"
   ]
  },
  {
   "cell_type": "code",
   "execution_count": 116,
   "metadata": {},
   "outputs": [
    {
     "name": "stdout",
     "output_type": "stream",
     "text": [
      "tensor([1, 3, 4,  ..., 6, 2, 6]) tensor([1, 3, 4,  ..., 6, 2, 6])\n"
     ]
    }
   ],
   "source": [
    "full_preds, tar_preds = grab_prebs(model=model_0, data_loader=test_load)\n",
    "print(full_preds, tar_preds)\n",
    "confus = CM(full_preds, tar_preds)\n"
   ]
  },
  {
   "cell_type": "code",
   "execution_count": 118,
   "metadata": {},
   "outputs": [
    {
     "data": {
      "text/plain": [
       "(<Figure size 640x480 with 1 Axes>,\n",
       " <Axes: xlabel='predicted label', ylabel='true label'>)"
      ]
     },
     "execution_count": 118,
     "metadata": {},
     "output_type": "execute_result"
    },
    {
     "data": {
      "image/png": "[encoded data removed]",
      "text/plain": [
       "<Figure size 640x480 with 1 Axes>"
      ]
     },
     "metadata": {},
     "output_type": "display_data"
    }
   ],
   "source": [
    "from mlxtend.plotting import plot_confusion_matrix\n",
    "\n",
    "plot_confusion_matrix(confus.numpy())\n"
   ]
  },
  {
   "cell_type": "code",
   "execution_count": null,
   "metadata": {},
   "outputs": [],
   "source": []
  },
  {
   "cell_type": "code",
   "execution_count": null,
   "metadata": {},
   "outputs": [],
   "source": []
  }
 ],
 "metadata": {
  "kernelspec": {
   "display_name": "Python 3",
   "language": "python",
   "name": "python3"
  },
  "language_info": {
   "codemirror_mode": {
    "name": "ipython",
    "version": 3
   },
   "file_extension": ".py",
   "mimetype": "text/x-python",
   "name": "python",
   "nbconvert_exporter": "python",
   "pygments_lexer": "ipython3",
   "version": "3.11.4"
  }
 },
 "nbformat": 4,
 "nbformat_minor": 2
}
